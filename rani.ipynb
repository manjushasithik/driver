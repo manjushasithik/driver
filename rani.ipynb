{
  "cells": [
    {
      "cell_type": "code",
      "execution_count": 1,
      "metadata": {
        "id": "rg1uPJP_SYKl"
      },
      "outputs": [],
      "source": [
        "import pandas as pd"
      ]
    },
    {
      "cell_type": "code",
      "execution_count": 65,
      "metadata": {
        "id": "wuj5HOCSS3pS"
      },
      "outputs": [],
      "source": [
        "rani=pd.read_excel('rani.xlsx',sheet_name='Jan-Aug 2023 list')"
      ]
    },
    {
      "cell_type": "code",
      "execution_count": 66,
      "metadata": {
        "id": "TEjqUxsGTZRA"
      },
      "outputs": [],
      "source": [
        "permit=pd.read_excel('permit.xlsx',sheet_name='English')"
      ]
    },
    {
      "cell_type": "code",
      "execution_count": 67,
      "metadata": {
        "id": "4EiErDjcTSOL"
      },
      "outputs": [],
      "source": [
        "rani=rani[ ~ rani['Permit No'].isna()]"
      ]
    },
    {
      "cell_type": "code",
      "execution_count": 5,
      "metadata": {
        "colab": {
          "base_uri": "https://localhost:8080/"
        },
        "id": "1p_WgRWCUx06",
        "outputId": "193e4d3b-8602-45ba-f043-1bb999d23df3"
      },
      "outputs": [
        {
          "name": "stdout",
          "output_type": "stream",
          "text": [
            "<class 'pandas.core.frame.DataFrame'>\n",
            "Index: 21233 entries, 0 to 32086\n",
            "Data columns (total 45 columns):\n",
            " #   Column                     Non-Null Count  Dtype         \n",
            "---  ------                     --------------  -----         \n",
            " 0   #                          21233 non-null  int64         \n",
            " 1   Section                    21233 non-null  object        \n",
            " 2   Fine Number                21233 non-null  object        \n",
            " 3   Fine Date Time             21233 non-null  datetime64[ns]\n",
            " 4   Fine Date                  21233 non-null  datetime64[ns]\n",
            " 5   Fine Time                  21233 non-null  datetime64[ns]\n",
            " 6   Violation Date Time        21142 non-null  datetime64[ns]\n",
            " 7   Violation Date             21142 non-null  datetime64[ns]\n",
            " 8   Violation Time             21142 non-null  datetime64[ns]\n",
            " 9   Inspector ID               21233 non-null  object        \n",
            " 10  Inspector Name             21233 non-null  object        \n",
            " 11  Location                   20718 non-null  object        \n",
            " 12  Violation Location         15438 non-null  object        \n",
            " 13  Side Number                21233 non-null  object        \n",
            " 14  Plate Number               21228 non-null  object        \n",
            " 15  Plate Color Code           21233 non-null  object        \n",
            " 16  Plate Category             21233 non-null  object        \n",
            " 17  Plate Source               21233 non-null  object        \n",
            " 18  Establishment Name         21233 non-null  object        \n",
            " 19  Violator ID                21233 non-null  object        \n",
            " 20  Violator Name              21233 non-null  object        \n",
            " 21  Nationality                17778 non-null  object        \n",
            " 22  Violator Mobile Number     6486 non-null   object        \n",
            " 23  Permit No                  21233 non-null  object        \n",
            " 24  Complaint Number           1347 non-null   object        \n",
            " 25  complain-date-time         1292 non-null   datetime64[ns]\n",
            " 26  Ticket Number              21233 non-null  object        \n",
            " 27  Ticket Date                21233 non-null  datetime64[ns]\n",
            " 28  Fine Amount                21233 non-null  int64         \n",
            " 29  Original Fine Amount       21233 non-null  int64         \n",
            " 30  Black Points               21233 non-null  int64         \n",
            " 31  Suspension Days            712 non-null    float64       \n",
            " 32  Suspension From Date Time  1 non-null      datetime64[ns]\n",
            " 33  Suspension To Date Time    1 non-null      datetime64[ns]\n",
            " 34  Fine Status                21177 non-null  object        \n",
            " 35  Disputed                   21233 non-null  object        \n",
            " 36  rms-ref-no                 7118 non-null   float64       \n",
            " 37  RMS Transfer Status        7118 non-null   object        \n",
            " 38  payment-acknowledge-no     2742 non-null   object        \n",
            " 39  Payment Date               2742 non-null   datetime64[ns]\n",
            " 40  Violation No               21233 non-null  int64         \n",
            " 41  Violation Name             21233 non-null  object        \n",
            " 42  Action Type                21233 non-null  object        \n",
            " 43  Violation Type             21233 non-null  object        \n",
            " 44  source                     21233 non-null  object        \n",
            "dtypes: datetime64[ns](11), float64(2), int64(5), object(27)\n",
            "memory usage: 7.5+ MB\n"
          ]
        }
      ],
      "source": [
        "rani.info()"
      ]
    },
    {
      "cell_type": "code",
      "execution_count": null,
      "metadata": {
        "colab": {
          "base_uri": "https://localhost:8080/",
          "height": 1000
        },
        "id": "f1vcKvHNU9N4",
        "outputId": "90380e07-730e-4b54-f1c5-f4758e61498b"
      },
      "outputs": [
        {
          "data": {
            "text/html": [
              "\n",
              "  <div id=\"df-7f241c0e-f99e-42ad-b562-c442e3033bc6\" class=\"colab-df-container\">\n",
              "    <div>\n",
              "<style scoped>\n",
              "    .dataframe tbody tr th:only-of-type {\n",
              "        vertical-align: middle;\n",
              "    }\n",
              "\n",
              "    .dataframe tbody tr th {\n",
              "        vertical-align: top;\n",
              "    }\n",
              "\n",
              "    .dataframe thead th {\n",
              "        text-align: right;\n",
              "    }\n",
              "</style>\n",
              "<table border=\"1\" class=\"dataframe\">\n",
              "  <thead>\n",
              "    <tr style=\"text-align: right;\">\n",
              "      <th></th>\n",
              "      <th>#</th>\n",
              "      <th>Section</th>\n",
              "      <th>Fine Number</th>\n",
              "      <th>Fine Date Time</th>\n",
              "      <th>Fine Date</th>\n",
              "      <th>Fine Time</th>\n",
              "      <th>Violation Date Time</th>\n",
              "      <th>Violation Date</th>\n",
              "      <th>Violation Time</th>\n",
              "      <th>Inspector ID</th>\n",
              "      <th>...</th>\n",
              "      <th>Disputed</th>\n",
              "      <th>rms-ref-no</th>\n",
              "      <th>RMS Transfer Status</th>\n",
              "      <th>payment-acknowledge-no</th>\n",
              "      <th>Payment Date</th>\n",
              "      <th>Violation No</th>\n",
              "      <th>Violation Name</th>\n",
              "      <th>Action Type</th>\n",
              "      <th>Violation Type</th>\n",
              "      <th>source</th>\n",
              "    </tr>\n",
              "  </thead>\n",
              "  <tbody>\n",
              "    <tr>\n",
              "      <th>0</th>\n",
              "      <td>3</td>\n",
              "      <td>Investigation Office</td>\n",
              "      <td>23082201010213461-DR01</td>\n",
              "      <td>2023-08-29 14:01:04</td>\n",
              "      <td>2023-08-29 14:01:04</td>\n",
              "      <td>2023-08-29 14:01:04</td>\n",
              "      <td>2023-08-22 01:01:02</td>\n",
              "      <td>2023-08-22 01:01:02</td>\n",
              "      <td>2023-08-22 01:01:02</td>\n",
              "      <td>V009534</td>\n",
              "      <td>...</td>\n",
              "      <td>No</td>\n",
              "      <td>NaN</td>\n",
              "      <td>NaN</td>\n",
              "      <td>NaN</td>\n",
              "      <td>NaT</td>\n",
              "      <td>202207136</td>\n",
              "      <td>1-36 Drive recklessly, or in a way that is dan...</td>\n",
              "      <td>Fines</td>\n",
              "      <td>Driver Violation</td>\n",
              "      <td>Driver Request</td>\n",
              "    </tr>\n",
              "    <tr>\n",
              "      <th>1</th>\n",
              "      <td>6</td>\n",
              "      <td>Vehicle Monitoring and Passenger Transport</td>\n",
              "      <td>2210091908186049</td>\n",
              "      <td>2023-02-13 17:04:08</td>\n",
              "      <td>2023-02-13 17:04:08</td>\n",
              "      <td>2023-02-13 17:04:08</td>\n",
              "      <td>2022-10-09 19:08:18</td>\n",
              "      <td>2022-10-09 19:08:18</td>\n",
              "      <td>2022-10-09 19:08:18</td>\n",
              "      <td>6049</td>\n",
              "      <td>...</td>\n",
              "      <td>No</td>\n",
              "      <td>10486963.0</td>\n",
              "      <td>Fine Transferred</td>\n",
              "      <td>CSCPAY-0889185</td>\n",
              "      <td>2023-10-17</td>\n",
              "      <td>202207107</td>\n",
              "      <td>1-07 Failure to fasten the seat belt or disabl...</td>\n",
              "      <td>Fines</td>\n",
              "      <td>Driver Violation</td>\n",
              "      <td>Direct</td>\n",
              "    </tr>\n",
              "    <tr>\n",
              "      <th>2</th>\n",
              "      <td>7</td>\n",
              "      <td>Vehicle Monitoring and Passenger Transport</td>\n",
              "      <td>2210091929026049</td>\n",
              "      <td>2023-02-13 17:04:00</td>\n",
              "      <td>2023-02-13 17:04:00</td>\n",
              "      <td>2023-02-13 17:04:00</td>\n",
              "      <td>2022-10-09 19:29:02</td>\n",
              "      <td>2022-10-09 19:29:02</td>\n",
              "      <td>2022-10-09 19:29:02</td>\n",
              "      <td>6049</td>\n",
              "      <td>...</td>\n",
              "      <td>No</td>\n",
              "      <td>10486963.0</td>\n",
              "      <td>Fine Transferred</td>\n",
              "      <td>CSCPAY-0889185</td>\n",
              "      <td>2023-10-17</td>\n",
              "      <td>202207115</td>\n",
              "      <td>1-15 Failure to keep the vehicle clean from in...</td>\n",
              "      <td>Fines</td>\n",
              "      <td>Driver Violation</td>\n",
              "      <td>Direct</td>\n",
              "    </tr>\n",
              "    <tr>\n",
              "      <th>4</th>\n",
              "      <td>11</td>\n",
              "      <td>Investigation Office</td>\n",
              "      <td>22123107010238722</td>\n",
              "      <td>2023-01-11 12:39:07</td>\n",
              "      <td>2023-01-11 12:39:07</td>\n",
              "      <td>2023-01-11 12:39:07</td>\n",
              "      <td>2022-12-31 07:01:02</td>\n",
              "      <td>2022-12-31 07:01:02</td>\n",
              "      <td>2022-12-31 07:01:02</td>\n",
              "      <td>38722</td>\n",
              "      <td>...</td>\n",
              "      <td>No</td>\n",
              "      <td>10473759.0</td>\n",
              "      <td>Fine Transferred</td>\n",
              "      <td>CSCPAY-0889180</td>\n",
              "      <td>2023-10-17</td>\n",
              "      <td>202207136</td>\n",
              "      <td>1-36 Drive recklessly, or in a way that is dan...</td>\n",
              "      <td>Fines</td>\n",
              "      <td>Driver Violation</td>\n",
              "      <td>Direct</td>\n",
              "    </tr>\n",
              "    <tr>\n",
              "      <th>5</th>\n",
              "      <td>12</td>\n",
              "      <td>Investigation Office</td>\n",
              "      <td>22123107020338722</td>\n",
              "      <td>2023-01-11 12:42:10</td>\n",
              "      <td>2023-01-11 12:42:10</td>\n",
              "      <td>2023-01-11 12:42:10</td>\n",
              "      <td>2022-12-31 07:02:03</td>\n",
              "      <td>2022-12-31 07:02:03</td>\n",
              "      <td>2022-12-31 07:02:03</td>\n",
              "      <td>38722</td>\n",
              "      <td>...</td>\n",
              "      <td>No</td>\n",
              "      <td>10473759.0</td>\n",
              "      <td>Fine Transferred</td>\n",
              "      <td>CSCPAY-0889180</td>\n",
              "      <td>2023-10-17</td>\n",
              "      <td>202207127</td>\n",
              "      <td>1-27 Drop off the customer at the wrong locati...</td>\n",
              "      <td>Fines</td>\n",
              "      <td>Driver Violation</td>\n",
              "      <td>Direct</td>\n",
              "    </tr>\n",
              "    <tr>\n",
              "      <th>...</th>\n",
              "      <td>...</td>\n",
              "      <td>...</td>\n",
              "      <td>...</td>\n",
              "      <td>...</td>\n",
              "      <td>...</td>\n",
              "      <td>...</td>\n",
              "      <td>...</td>\n",
              "      <td>...</td>\n",
              "      <td>...</td>\n",
              "      <td>...</td>\n",
              "      <td>...</td>\n",
              "      <td>...</td>\n",
              "      <td>...</td>\n",
              "      <td>...</td>\n",
              "      <td>...</td>\n",
              "      <td>...</td>\n",
              "      <td>...</td>\n",
              "      <td>...</td>\n",
              "      <td>...</td>\n",
              "      <td>...</td>\n",
              "      <td>...</td>\n",
              "    </tr>\n",
              "    <tr>\n",
              "      <th>32082</th>\n",
              "      <td>70205</td>\n",
              "      <td>Passenger Transport Smart Monitoring</td>\n",
              "      <td>PTSMTDGF2023093011998</td>\n",
              "      <td>2023-09-30 02:03:31</td>\n",
              "      <td>2023-09-30 02:03:31</td>\n",
              "      <td>2023-09-30 02:03:31</td>\n",
              "      <td>2023-09-29 00:00:31</td>\n",
              "      <td>2023-09-29 00:00:31</td>\n",
              "      <td>2023-09-29 00:00:31</td>\n",
              "      <td>13363</td>\n",
              "      <td>...</td>\n",
              "      <td>No</td>\n",
              "      <td>NaN</td>\n",
              "      <td>NaN</td>\n",
              "      <td>NaN</td>\n",
              "      <td>NaT</td>\n",
              "      <td>202207104</td>\n",
              "      <td>1-04 Overspeed based on the extracted informat...</td>\n",
              "      <td>Fines</td>\n",
              "      <td>Driver Violation</td>\n",
              "      <td>Direct</td>\n",
              "    </tr>\n",
              "    <tr>\n",
              "      <th>32083</th>\n",
              "      <td>70207</td>\n",
              "      <td>Passenger Transport Smart Monitoring</td>\n",
              "      <td>PTSMTDGF2023093012000</td>\n",
              "      <td>2023-09-30 02:05:46</td>\n",
              "      <td>2023-09-30 02:05:46</td>\n",
              "      <td>2023-09-30 02:05:46</td>\n",
              "      <td>2023-09-29 00:00:46</td>\n",
              "      <td>2023-09-29 00:00:46</td>\n",
              "      <td>2023-09-29 00:00:46</td>\n",
              "      <td>13363</td>\n",
              "      <td>...</td>\n",
              "      <td>No</td>\n",
              "      <td>NaN</td>\n",
              "      <td>NaN</td>\n",
              "      <td>NaN</td>\n",
              "      <td>NaT</td>\n",
              "      <td>202207104</td>\n",
              "      <td>1-04 Overspeed based on the extracted informat...</td>\n",
              "      <td>Fines</td>\n",
              "      <td>Driver Violation</td>\n",
              "      <td>Direct</td>\n",
              "    </tr>\n",
              "    <tr>\n",
              "      <th>32084</th>\n",
              "      <td>70209</td>\n",
              "      <td>Passenger Transport Smart Monitoring</td>\n",
              "      <td>PTSMTDGF2023093012002</td>\n",
              "      <td>2023-09-30 02:08:04</td>\n",
              "      <td>2023-09-30 02:08:04</td>\n",
              "      <td>2023-09-30 02:08:04</td>\n",
              "      <td>2023-09-29 00:00:04</td>\n",
              "      <td>2023-09-29 00:00:04</td>\n",
              "      <td>2023-09-29 00:00:04</td>\n",
              "      <td>13363</td>\n",
              "      <td>...</td>\n",
              "      <td>No</td>\n",
              "      <td>NaN</td>\n",
              "      <td>NaN</td>\n",
              "      <td>NaN</td>\n",
              "      <td>NaT</td>\n",
              "      <td>202207104</td>\n",
              "      <td>1-04 Overspeed based on the extracted informat...</td>\n",
              "      <td>Fines</td>\n",
              "      <td>Driver Violation</td>\n",
              "      <td>Direct</td>\n",
              "    </tr>\n",
              "    <tr>\n",
              "      <th>32085</th>\n",
              "      <td>70211</td>\n",
              "      <td>Passenger Transport Smart Monitoring</td>\n",
              "      <td>PTSMTDGF2023093012004</td>\n",
              "      <td>2023-09-30 02:08:45</td>\n",
              "      <td>2023-09-30 02:08:45</td>\n",
              "      <td>2023-09-30 02:08:45</td>\n",
              "      <td>2023-09-29 00:00:45</td>\n",
              "      <td>2023-09-29 00:00:45</td>\n",
              "      <td>2023-09-29 00:00:45</td>\n",
              "      <td>13363</td>\n",
              "      <td>...</td>\n",
              "      <td>No</td>\n",
              "      <td>NaN</td>\n",
              "      <td>NaN</td>\n",
              "      <td>NaN</td>\n",
              "      <td>NaT</td>\n",
              "      <td>202207104</td>\n",
              "      <td>1-04 Overspeed based on the extracted informat...</td>\n",
              "      <td>Fines</td>\n",
              "      <td>Driver Violation</td>\n",
              "      <td>Direct</td>\n",
              "    </tr>\n",
              "    <tr>\n",
              "      <th>32086</th>\n",
              "      <td>70213</td>\n",
              "      <td>Passenger Transport Smart Monitoring</td>\n",
              "      <td>PTSMTDGF2023093012006</td>\n",
              "      <td>2023-09-30 02:09:57</td>\n",
              "      <td>2023-09-30 02:09:57</td>\n",
              "      <td>2023-09-30 02:09:57</td>\n",
              "      <td>2023-09-29 00:00:57</td>\n",
              "      <td>2023-09-29 00:00:57</td>\n",
              "      <td>2023-09-29 00:00:57</td>\n",
              "      <td>13363</td>\n",
              "      <td>...</td>\n",
              "      <td>No</td>\n",
              "      <td>NaN</td>\n",
              "      <td>NaN</td>\n",
              "      <td>NaN</td>\n",
              "      <td>NaT</td>\n",
              "      <td>202207104</td>\n",
              "      <td>1-04 Overspeed based on the extracted informat...</td>\n",
              "      <td>Fines</td>\n",
              "      <td>Driver Violation</td>\n",
              "      <td>Direct</td>\n",
              "    </tr>\n",
              "  </tbody>\n",
              "</table>\n",
              "<p>21233 rows × 45 columns</p>\n",
              "</div>\n",
              "    <div class=\"colab-df-buttons\">\n",
              "\n",
              "  <div class=\"colab-df-container\">\n",
              "    <button class=\"colab-df-convert\" onclick=\"convertToInteractive('df-7f241c0e-f99e-42ad-b562-c442e3033bc6')\"\n",
              "            title=\"Convert this dataframe to an interactive table.\"\n",
              "            style=\"display:none;\">\n",
              "\n",
              "  <svg xmlns=\"http://www.w3.org/2000/svg\" height=\"24px\" viewBox=\"0 -960 960 960\">\n",
              "    <path d=\"M120-120v-720h720v720H120Zm60-500h600v-160H180v160Zm220 220h160v-160H400v160Zm0 220h160v-160H400v160ZM180-400h160v-160H180v160Zm440 0h160v-160H620v160ZM180-180h160v-160H180v160Zm440 0h160v-160H620v160Z\"/>\n",
              "  </svg>\n",
              "    </button>\n",
              "\n",
              "  <style>\n",
              "    .colab-df-container {\n",
              "      display:flex;\n",
              "      gap: 12px;\n",
              "    }\n",
              "\n",
              "    .colab-df-convert {\n",
              "      background-color: #E8F0FE;\n",
              "      border: none;\n",
              "      border-radius: 50%;\n",
              "      cursor: pointer;\n",
              "      display: none;\n",
              "      fill: #1967D2;\n",
              "      height: 32px;\n",
              "      padding: 0 0 0 0;\n",
              "      width: 32px;\n",
              "    }\n",
              "\n",
              "    .colab-df-convert:hover {\n",
              "      background-color: #E2EBFA;\n",
              "      box-shadow: 0px 1px 2px rgba(60, 64, 67, 0.3), 0px 1px 3px 1px rgba(60, 64, 67, 0.15);\n",
              "      fill: #174EA6;\n",
              "    }\n",
              "\n",
              "    .colab-df-buttons div {\n",
              "      margin-bottom: 4px;\n",
              "    }\n",
              "\n",
              "    [theme=dark] .colab-df-convert {\n",
              "      background-color: #3B4455;\n",
              "      fill: #D2E3FC;\n",
              "    }\n",
              "\n",
              "    [theme=dark] .colab-df-convert:hover {\n",
              "      background-color: #434B5C;\n",
              "      box-shadow: 0px 1px 3px 1px rgba(0, 0, 0, 0.15);\n",
              "      filter: drop-shadow(0px 1px 2px rgba(0, 0, 0, 0.3));\n",
              "      fill: #FFFFFF;\n",
              "    }\n",
              "  </style>\n",
              "\n",
              "    <script>\n",
              "      const buttonEl =\n",
              "        document.querySelector('#df-7f241c0e-f99e-42ad-b562-c442e3033bc6 button.colab-df-convert');\n",
              "      buttonEl.style.display =\n",
              "        google.colab.kernel.accessAllowed ? 'block' : 'none';\n",
              "\n",
              "      async function convertToInteractive(key) {\n",
              "        const element = document.querySelector('#df-7f241c0e-f99e-42ad-b562-c442e3033bc6');\n",
              "        const dataTable =\n",
              "          await google.colab.kernel.invokeFunction('convertToInteractive',\n",
              "                                                    [key], {});\n",
              "        if (!dataTable) return;\n",
              "\n",
              "        const docLinkHtml = 'Like what you see? Visit the ' +\n",
              "          '<a target=\"_blank\" href=https://colab.research.google.com/notebooks/data_table.ipynb>data table notebook</a>'\n",
              "          + ' to learn more about interactive tables.';\n",
              "        element.innerHTML = '';\n",
              "        dataTable['output_type'] = 'display_data';\n",
              "        await google.colab.output.renderOutput(dataTable, element);\n",
              "        const docLink = document.createElement('div');\n",
              "        docLink.innerHTML = docLinkHtml;\n",
              "        element.appendChild(docLink);\n",
              "      }\n",
              "    </script>\n",
              "  </div>\n",
              "\n",
              "\n",
              "<div id=\"df-a1ed1627-ca89-4f5f-8ae9-93ec18965cf5\">\n",
              "  <button class=\"colab-df-quickchart\" onclick=\"quickchart('df-a1ed1627-ca89-4f5f-8ae9-93ec18965cf5')\"\n",
              "            title=\"Suggest charts.\"\n",
              "            style=\"display:none;\">\n",
              "\n",
              "<svg xmlns=\"http://www.w3.org/2000/svg\" height=\"24px\"viewBox=\"0 0 24 24\"\n",
              "     width=\"24px\">\n",
              "    <g>\n",
              "        <path d=\"M19 3H5c-1.1 0-2 .9-2 2v14c0 1.1.9 2 2 2h14c1.1 0 2-.9 2-2V5c0-1.1-.9-2-2-2zM9 17H7v-7h2v7zm4 0h-2V7h2v10zm4 0h-2v-4h2v4z\"/>\n",
              "    </g>\n",
              "</svg>\n",
              "  </button>\n",
              "\n",
              "<style>\n",
              "  .colab-df-quickchart {\n",
              "      --bg-color: #E8F0FE;\n",
              "      --fill-color: #1967D2;\n",
              "      --hover-bg-color: #E2EBFA;\n",
              "      --hover-fill-color: #174EA6;\n",
              "      --disabled-fill-color: #AAA;\n",
              "      --disabled-bg-color: #DDD;\n",
              "  }\n",
              "\n",
              "  [theme=dark] .colab-df-quickchart {\n",
              "      --bg-color: #3B4455;\n",
              "      --fill-color: #D2E3FC;\n",
              "      --hover-bg-color: #434B5C;\n",
              "      --hover-fill-color: #FFFFFF;\n",
              "      --disabled-bg-color: #3B4455;\n",
              "      --disabled-fill-color: #666;\n",
              "  }\n",
              "\n",
              "  .colab-df-quickchart {\n",
              "    background-color: var(--bg-color);\n",
              "    border: none;\n",
              "    border-radius: 50%;\n",
              "    cursor: pointer;\n",
              "    display: none;\n",
              "    fill: var(--fill-color);\n",
              "    height: 32px;\n",
              "    padding: 0;\n",
              "    width: 32px;\n",
              "  }\n",
              "\n",
              "  .colab-df-quickchart:hover {\n",
              "    background-color: var(--hover-bg-color);\n",
              "    box-shadow: 0 1px 2px rgba(60, 64, 67, 0.3), 0 1px 3px 1px rgba(60, 64, 67, 0.15);\n",
              "    fill: var(--button-hover-fill-color);\n",
              "  }\n",
              "\n",
              "  .colab-df-quickchart-complete:disabled,\n",
              "  .colab-df-quickchart-complete:disabled:hover {\n",
              "    background-color: var(--disabled-bg-color);\n",
              "    fill: var(--disabled-fill-color);\n",
              "    box-shadow: none;\n",
              "  }\n",
              "\n",
              "  .colab-df-spinner {\n",
              "    border: 2px solid var(--fill-color);\n",
              "    border-color: transparent;\n",
              "    border-bottom-color: var(--fill-color);\n",
              "    animation:\n",
              "      spin 1s steps(1) infinite;\n",
              "  }\n",
              "\n",
              "  @keyframes spin {\n",
              "    0% {\n",
              "      border-color: transparent;\n",
              "      border-bottom-color: var(--fill-color);\n",
              "      border-left-color: var(--fill-color);\n",
              "    }\n",
              "    20% {\n",
              "      border-color: transparent;\n",
              "      border-left-color: var(--fill-color);\n",
              "      border-top-color: var(--fill-color);\n",
              "    }\n",
              "    30% {\n",
              "      border-color: transparent;\n",
              "      border-left-color: var(--fill-color);\n",
              "      border-top-color: var(--fill-color);\n",
              "      border-right-color: var(--fill-color);\n",
              "    }\n",
              "    40% {\n",
              "      border-color: transparent;\n",
              "      border-right-color: var(--fill-color);\n",
              "      border-top-color: var(--fill-color);\n",
              "    }\n",
              "    60% {\n",
              "      border-color: transparent;\n",
              "      border-right-color: var(--fill-color);\n",
              "    }\n",
              "    80% {\n",
              "      border-color: transparent;\n",
              "      border-right-color: var(--fill-color);\n",
              "      border-bottom-color: var(--fill-color);\n",
              "    }\n",
              "    90% {\n",
              "      border-color: transparent;\n",
              "      border-bottom-color: var(--fill-color);\n",
              "    }\n",
              "  }\n",
              "</style>\n",
              "\n",
              "  <script>\n",
              "    async function quickchart(key) {\n",
              "      const quickchartButtonEl =\n",
              "        document.querySelector('#' + key + ' button');\n",
              "      quickchartButtonEl.disabled = true;  // To prevent multiple clicks.\n",
              "      quickchartButtonEl.classList.add('colab-df-spinner');\n",
              "      try {\n",
              "        const charts = await google.colab.kernel.invokeFunction(\n",
              "            'suggestCharts', [key], {});\n",
              "      } catch (error) {\n",
              "        console.error('Error during call to suggestCharts:', error);\n",
              "      }\n",
              "      quickchartButtonEl.classList.remove('colab-df-spinner');\n",
              "      quickchartButtonEl.classList.add('colab-df-quickchart-complete');\n",
              "    }\n",
              "    (() => {\n",
              "      let quickchartButtonEl =\n",
              "        document.querySelector('#df-a1ed1627-ca89-4f5f-8ae9-93ec18965cf5 button');\n",
              "      quickchartButtonEl.style.display =\n",
              "        google.colab.kernel.accessAllowed ? 'block' : 'none';\n",
              "    })();\n",
              "  </script>\n",
              "</div>\n",
              "    </div>\n",
              "  </div>\n"
            ],
            "text/plain": [
              "           #                                     Section  \\\n",
              "0          3                        Investigation Office   \n",
              "1          6  Vehicle Monitoring and Passenger Transport   \n",
              "2          7  Vehicle Monitoring and Passenger Transport   \n",
              "4         11                        Investigation Office   \n",
              "5         12                        Investigation Office   \n",
              "...      ...                                         ...   \n",
              "32082  70205        Passenger Transport Smart Monitoring   \n",
              "32083  70207        Passenger Transport Smart Monitoring   \n",
              "32084  70209        Passenger Transport Smart Monitoring   \n",
              "32085  70211        Passenger Transport Smart Monitoring   \n",
              "32086  70213        Passenger Transport Smart Monitoring   \n",
              "\n",
              "                  Fine Number      Fine Date Time           Fine Date  \\\n",
              "0      23082201010213461-DR01 2023-08-29 14:01:04 2023-08-29 14:01:04   \n",
              "1            2210091908186049 2023-02-13 17:04:08 2023-02-13 17:04:08   \n",
              "2            2210091929026049 2023-02-13 17:04:00 2023-02-13 17:04:00   \n",
              "4           22123107010238722 2023-01-11 12:39:07 2023-01-11 12:39:07   \n",
              "5           22123107020338722 2023-01-11 12:42:10 2023-01-11 12:42:10   \n",
              "...                       ...                 ...                 ...   \n",
              "32082   PTSMTDGF2023093011998 2023-09-30 02:03:31 2023-09-30 02:03:31   \n",
              "32083   PTSMTDGF2023093012000 2023-09-30 02:05:46 2023-09-30 02:05:46   \n",
              "32084   PTSMTDGF2023093012002 2023-09-30 02:08:04 2023-09-30 02:08:04   \n",
              "32085   PTSMTDGF2023093012004 2023-09-30 02:08:45 2023-09-30 02:08:45   \n",
              "32086   PTSMTDGF2023093012006 2023-09-30 02:09:57 2023-09-30 02:09:57   \n",
              "\n",
              "                Fine Time Violation Date Time      Violation Date  \\\n",
              "0     2023-08-29 14:01:04 2023-08-22 01:01:02 2023-08-22 01:01:02   \n",
              "1     2023-02-13 17:04:08 2022-10-09 19:08:18 2022-10-09 19:08:18   \n",
              "2     2023-02-13 17:04:00 2022-10-09 19:29:02 2022-10-09 19:29:02   \n",
              "4     2023-01-11 12:39:07 2022-12-31 07:01:02 2022-12-31 07:01:02   \n",
              "5     2023-01-11 12:42:10 2022-12-31 07:02:03 2022-12-31 07:02:03   \n",
              "...                   ...                 ...                 ...   \n",
              "32082 2023-09-30 02:03:31 2023-09-29 00:00:31 2023-09-29 00:00:31   \n",
              "32083 2023-09-30 02:05:46 2023-09-29 00:00:46 2023-09-29 00:00:46   \n",
              "32084 2023-09-30 02:08:04 2023-09-29 00:00:04 2023-09-29 00:00:04   \n",
              "32085 2023-09-30 02:08:45 2023-09-29 00:00:45 2023-09-29 00:00:45   \n",
              "32086 2023-09-30 02:09:57 2023-09-29 00:00:57 2023-09-29 00:00:57   \n",
              "\n",
              "           Violation Time Inspector ID  ... Disputed  rms-ref-no  \\\n",
              "0     2023-08-22 01:01:02      V009534  ...       No         NaN   \n",
              "1     2022-10-09 19:08:18         6049  ...       No  10486963.0   \n",
              "2     2022-10-09 19:29:02         6049  ...       No  10486963.0   \n",
              "4     2022-12-31 07:01:02        38722  ...       No  10473759.0   \n",
              "5     2022-12-31 07:02:03        38722  ...       No  10473759.0   \n",
              "...                   ...          ...  ...      ...         ...   \n",
              "32082 2023-09-29 00:00:31        13363  ...       No         NaN   \n",
              "32083 2023-09-29 00:00:46        13363  ...       No         NaN   \n",
              "32084 2023-09-29 00:00:04        13363  ...       No         NaN   \n",
              "32085 2023-09-29 00:00:45        13363  ...       No         NaN   \n",
              "32086 2023-09-29 00:00:57        13363  ...       No         NaN   \n",
              "\n",
              "      RMS Transfer Status payment-acknowledge-no Payment Date Violation No  \\\n",
              "0                     NaN                    NaN          NaT    202207136   \n",
              "1        Fine Transferred         CSCPAY-0889185   2023-10-17    202207107   \n",
              "2        Fine Transferred         CSCPAY-0889185   2023-10-17    202207115   \n",
              "4        Fine Transferred         CSCPAY-0889180   2023-10-17    202207136   \n",
              "5        Fine Transferred         CSCPAY-0889180   2023-10-17    202207127   \n",
              "...                   ...                    ...          ...          ...   \n",
              "32082                 NaN                    NaN          NaT    202207104   \n",
              "32083                 NaN                    NaN          NaT    202207104   \n",
              "32084                 NaN                    NaN          NaT    202207104   \n",
              "32085                 NaN                    NaN          NaT    202207104   \n",
              "32086                 NaN                    NaN          NaT    202207104   \n",
              "\n",
              "                                          Violation Name Action Type  \\\n",
              "0      1-36 Drive recklessly, or in a way that is dan...       Fines   \n",
              "1      1-07 Failure to fasten the seat belt or disabl...       Fines   \n",
              "2      1-15 Failure to keep the vehicle clean from in...       Fines   \n",
              "4      1-36 Drive recklessly, or in a way that is dan...       Fines   \n",
              "5      1-27 Drop off the customer at the wrong locati...       Fines   \n",
              "...                                                  ...         ...   \n",
              "32082  1-04 Overspeed based on the extracted informat...       Fines   \n",
              "32083  1-04 Overspeed based on the extracted informat...       Fines   \n",
              "32084  1-04 Overspeed based on the extracted informat...       Fines   \n",
              "32085  1-04 Overspeed based on the extracted informat...       Fines   \n",
              "32086  1-04 Overspeed based on the extracted informat...       Fines   \n",
              "\n",
              "         Violation Type          source  \n",
              "0      Driver Violation  Driver Request  \n",
              "1      Driver Violation          Direct  \n",
              "2      Driver Violation          Direct  \n",
              "4      Driver Violation          Direct  \n",
              "5      Driver Violation          Direct  \n",
              "...                 ...             ...  \n",
              "32082  Driver Violation          Direct  \n",
              "32083  Driver Violation          Direct  \n",
              "32084  Driver Violation          Direct  \n",
              "32085  Driver Violation          Direct  \n",
              "32086  Driver Violation          Direct  \n",
              "\n",
              "[21233 rows x 45 columns]"
            ]
          },
          "execution_count": 15,
          "metadata": {},
          "output_type": "execute_result"
        }
      ],
      "source": [
        "rani"
      ]
    },
    {
      "cell_type": "code",
      "execution_count": null,
      "metadata": {
        "colab": {
          "base_uri": "https://localhost:8080/"
        },
        "id": "4Tc39x5vTh66",
        "outputId": "6fd6301a-e7fd-4f06-eeb2-c447ee98c9cc"
      },
      "outputs": [
        {
          "data": {
            "text/plain": [
              "Index(['General', 'Nationality', 'Date of Birth', 'Traffic File',\n",
              "       'Name of the permit holder', 'Permit Status', 'Expiry Date',\n",
              "       'Issue Date', 'Permit number', 'Administrative ID', 'Status'],\n",
              "      dtype='object')"
            ]
          },
          "execution_count": 11,
          "metadata": {},
          "output_type": "execute_result"
        }
      ],
      "source": [
        "permit.columns"
      ]
    },
    {
      "cell_type": "code",
      "execution_count": 68,
      "metadata": {
        "id": "10k1kuYnTjKt"
      },
      "outputs": [],
      "source": [
        "permit=permit[ ~ permit['Permit number'].isna()]\n",
        "permit['Permit number']=permit['Permit number'].astype('int').astype('string')"
      ]
    },
    {
      "cell_type": "code",
      "execution_count": 69,
      "metadata": {
        "id": "ufR0smxXUOmP"
      },
      "outputs": [],
      "source": [
        "rani['Permit No']=rani['Permit No'].astype('string')"
      ]
    },
    {
      "cell_type": "code",
      "execution_count": 70,
      "metadata": {
        "colab": {
          "base_uri": "https://localhost:8080/",
          "height": 825
        },
        "id": "H9d_KVAIUek9",
        "outputId": "578b1a86-5a50-4320-f05f-1443f73b35b7"
      },
      "outputs": [
        {
          "data": {
            "text/html": [
              "<div>\n",
              "<style scoped>\n",
              "    .dataframe tbody tr th:only-of-type {\n",
              "        vertical-align: middle;\n",
              "    }\n",
              "\n",
              "    .dataframe tbody tr th {\n",
              "        vertical-align: top;\n",
              "    }\n",
              "\n",
              "    .dataframe thead th {\n",
              "        text-align: right;\n",
              "    }\n",
              "</style>\n",
              "<table border=\"1\" class=\"dataframe\">\n",
              "  <thead>\n",
              "    <tr style=\"text-align: right;\">\n",
              "      <th></th>\n",
              "      <th>#</th>\n",
              "      <th>Section</th>\n",
              "      <th>Fine Number</th>\n",
              "      <th>Fine Date Time</th>\n",
              "      <th>Fine Date</th>\n",
              "      <th>Fine Time</th>\n",
              "      <th>Violation Date Time</th>\n",
              "      <th>Violation Date</th>\n",
              "      <th>Violation Time</th>\n",
              "      <th>Inspector ID</th>\n",
              "      <th>...</th>\n",
              "      <th>Nationality_y</th>\n",
              "      <th>Date of Birth</th>\n",
              "      <th>Traffic File</th>\n",
              "      <th>Name of the permit holder</th>\n",
              "      <th>Permit Status</th>\n",
              "      <th>Expiry Date</th>\n",
              "      <th>Issue Date</th>\n",
              "      <th>Permit number</th>\n",
              "      <th>Administrative ID</th>\n",
              "      <th>Status</th>\n",
              "    </tr>\n",
              "  </thead>\n",
              "  <tbody>\n",
              "    <tr>\n",
              "      <th>0</th>\n",
              "      <td>3</td>\n",
              "      <td>Investigation Office</td>\n",
              "      <td>23082201010213461-DR01</td>\n",
              "      <td>2023-08-29 14:01:04</td>\n",
              "      <td>2023-08-29 14:01:04</td>\n",
              "      <td>2023-08-29 14:01:04</td>\n",
              "      <td>2023-08-22 01:01:02</td>\n",
              "      <td>2023-08-22 01:01:02</td>\n",
              "      <td>2023-08-22 01:01:02</td>\n",
              "      <td>V009534</td>\n",
              "      <td>...</td>\n",
              "      <td>Nigeria</td>\n",
              "      <td>1987-04-16</td>\n",
              "      <td>15748691.0</td>\n",
              "      <td>اولونرواجو ابيدين باميجبولا</td>\n",
              "      <td>effective</td>\n",
              "      <td>2023-10-26</td>\n",
              "      <td>2022-10-26</td>\n",
              "      <td>2382159</td>\n",
              "      <td>2223436.0</td>\n",
              "      <td>No</td>\n",
              "    </tr>\n",
              "    <tr>\n",
              "      <th>1</th>\n",
              "      <td>11</td>\n",
              "      <td>Investigation Office</td>\n",
              "      <td>22123107010238722</td>\n",
              "      <td>2023-01-11 12:39:07</td>\n",
              "      <td>2023-01-11 12:39:07</td>\n",
              "      <td>2023-01-11 12:39:07</td>\n",
              "      <td>2022-12-31 07:01:02</td>\n",
              "      <td>2022-12-31 07:01:02</td>\n",
              "      <td>2022-12-31 07:01:02</td>\n",
              "      <td>38722</td>\n",
              "      <td>...</td>\n",
              "      <td>India</td>\n",
              "      <td>1983-06-15</td>\n",
              "      <td>12435448.0</td>\n",
              "      <td>جاجاناتان سوبرامانيان</td>\n",
              "      <td>effective</td>\n",
              "      <td>2023-10-20</td>\n",
              "      <td>2014-10-29</td>\n",
              "      <td>1958661</td>\n",
              "      <td>2131299.0</td>\n",
              "      <td>No</td>\n",
              "    </tr>\n",
              "    <tr>\n",
              "      <th>2</th>\n",
              "      <td>12</td>\n",
              "      <td>Investigation Office</td>\n",
              "      <td>22123107020338722</td>\n",
              "      <td>2023-01-11 12:42:10</td>\n",
              "      <td>2023-01-11 12:42:10</td>\n",
              "      <td>2023-01-11 12:42:10</td>\n",
              "      <td>2022-12-31 07:02:03</td>\n",
              "      <td>2022-12-31 07:02:03</td>\n",
              "      <td>2022-12-31 07:02:03</td>\n",
              "      <td>38722</td>\n",
              "      <td>...</td>\n",
              "      <td>Pakistan</td>\n",
              "      <td>1994-12-27</td>\n",
              "      <td>13458451.0</td>\n",
              "      <td>على حسن صفدر حسين</td>\n",
              "      <td>effective</td>\n",
              "      <td>2024-01-25</td>\n",
              "      <td>2018-01-30</td>\n",
              "      <td>886589</td>\n",
              "      <td>2180213.0</td>\n",
              "      <td>Yes</td>\n",
              "    </tr>\n",
              "    <tr>\n",
              "      <th>3</th>\n",
              "      <td>15</td>\n",
              "      <td>Investigation Office</td>\n",
              "      <td>22123107050638722</td>\n",
              "      <td>2023-01-11 12:47:50</td>\n",
              "      <td>2023-01-11 12:47:50</td>\n",
              "      <td>2023-01-11 12:47:50</td>\n",
              "      <td>2022-12-31 07:05:06</td>\n",
              "      <td>2022-12-31 07:05:06</td>\n",
              "      <td>2022-12-31 07:05:06</td>\n",
              "      <td>38722</td>\n",
              "      <td>...</td>\n",
              "      <td>Pakistan</td>\n",
              "      <td>1989-12-25</td>\n",
              "      <td>14530461.0</td>\n",
              "      <td>محمد مصدق طاهر صادق</td>\n",
              "      <td>effective</td>\n",
              "      <td>2023-08-30</td>\n",
              "      <td>2020-09-01</td>\n",
              "      <td>1692892</td>\n",
              "      <td>2201169.0</td>\n",
              "      <td>No</td>\n",
              "    </tr>\n",
              "    <tr>\n",
              "      <th>4</th>\n",
              "      <td>16</td>\n",
              "      <td>Investigation Office</td>\n",
              "      <td>22123107060738722</td>\n",
              "      <td>2023-01-11 12:22:30</td>\n",
              "      <td>2023-01-11 12:22:30</td>\n",
              "      <td>2023-01-11 12:22:30</td>\n",
              "      <td>2022-12-31 07:06:07</td>\n",
              "      <td>2022-12-31 07:06:07</td>\n",
              "      <td>2022-12-31 07:06:07</td>\n",
              "      <td>38722</td>\n",
              "      <td>...</td>\n",
              "      <td>Ethiopia</td>\n",
              "      <td>1988-09-15</td>\n",
              "      <td>12828849.0</td>\n",
              "      <td>ديساليجن برهانوهادوش</td>\n",
              "      <td>effective</td>\n",
              "      <td>2023-07-04</td>\n",
              "      <td>2016-07-10</td>\n",
              "      <td>409281</td>\n",
              "      <td>2160921.0</td>\n",
              "      <td>No</td>\n",
              "    </tr>\n",
              "    <tr>\n",
              "      <th>...</th>\n",
              "      <td>...</td>\n",
              "      <td>...</td>\n",
              "      <td>...</td>\n",
              "      <td>...</td>\n",
              "      <td>...</td>\n",
              "      <td>...</td>\n",
              "      <td>...</td>\n",
              "      <td>...</td>\n",
              "      <td>...</td>\n",
              "      <td>...</td>\n",
              "      <td>...</td>\n",
              "      <td>...</td>\n",
              "      <td>...</td>\n",
              "      <td>...</td>\n",
              "      <td>...</td>\n",
              "      <td>...</td>\n",
              "      <td>...</td>\n",
              "      <td>...</td>\n",
              "      <td>...</td>\n",
              "      <td>...</td>\n",
              "      <td>...</td>\n",
              "    </tr>\n",
              "    <tr>\n",
              "      <th>3497</th>\n",
              "      <td>38754</td>\n",
              "      <td>Investigation Office</td>\n",
              "      <td>IOTD202309302805</td>\n",
              "      <td>2023-09-30 10:40:31</td>\n",
              "      <td>2023-09-30 10:40:31</td>\n",
              "      <td>2023-09-30 10:40:31</td>\n",
              "      <td>2023-09-20 10:00:00</td>\n",
              "      <td>2023-09-20 10:00:00</td>\n",
              "      <td>2023-09-20 10:00:00</td>\n",
              "      <td>V009371</td>\n",
              "      <td>...</td>\n",
              "      <td>NaN</td>\n",
              "      <td>NaT</td>\n",
              "      <td>NaN</td>\n",
              "      <td>NaN</td>\n",
              "      <td>NaN</td>\n",
              "      <td>NaT</td>\n",
              "      <td>NaT</td>\n",
              "      <td>&lt;NA&gt;</td>\n",
              "      <td>NaN</td>\n",
              "      <td>NaN</td>\n",
              "    </tr>\n",
              "    <tr>\n",
              "      <th>3498</th>\n",
              "      <td>38755</td>\n",
              "      <td>Investigation Office</td>\n",
              "      <td>IOTD202309302806</td>\n",
              "      <td>2023-09-30 11:49:50</td>\n",
              "      <td>2023-09-30 11:49:50</td>\n",
              "      <td>2023-09-30 11:49:50</td>\n",
              "      <td>2023-09-25 18:25:00</td>\n",
              "      <td>2023-09-25 18:25:00</td>\n",
              "      <td>2023-09-25 18:25:00</td>\n",
              "      <td>V009531</td>\n",
              "      <td>...</td>\n",
              "      <td>Cameroon</td>\n",
              "      <td>1999-07-16</td>\n",
              "      <td>15889283.0</td>\n",
              "      <td>كلينتون نوهكيكاه ليجو</td>\n",
              "      <td>effective</td>\n",
              "      <td>2024-03-24</td>\n",
              "      <td>2023-03-24</td>\n",
              "      <td>2571655</td>\n",
              "      <td>2231831.0</td>\n",
              "      <td>No</td>\n",
              "    </tr>\n",
              "    <tr>\n",
              "      <th>3499</th>\n",
              "      <td>38757</td>\n",
              "      <td>Investigation Office</td>\n",
              "      <td>IOTD202309302808</td>\n",
              "      <td>2023-09-30 12:29:53</td>\n",
              "      <td>2023-09-30 12:29:53</td>\n",
              "      <td>2023-09-30 12:29:53</td>\n",
              "      <td>2023-09-26 08:39:00</td>\n",
              "      <td>2023-09-26 08:39:00</td>\n",
              "      <td>2023-09-26 08:39:00</td>\n",
              "      <td>V009371</td>\n",
              "      <td>...</td>\n",
              "      <td>NaN</td>\n",
              "      <td>NaT</td>\n",
              "      <td>NaN</td>\n",
              "      <td>NaN</td>\n",
              "      <td>NaN</td>\n",
              "      <td>NaT</td>\n",
              "      <td>NaT</td>\n",
              "      <td>&lt;NA&gt;</td>\n",
              "      <td>NaN</td>\n",
              "      <td>NaN</td>\n",
              "    </tr>\n",
              "    <tr>\n",
              "      <th>3500</th>\n",
              "      <td>38758</td>\n",
              "      <td>Investigation Office</td>\n",
              "      <td>IOTD202309302809</td>\n",
              "      <td>2023-09-30 13:28:11</td>\n",
              "      <td>2023-09-30 13:28:11</td>\n",
              "      <td>2023-09-30 13:28:11</td>\n",
              "      <td>2023-09-25 14:34:00</td>\n",
              "      <td>2023-09-25 14:34:00</td>\n",
              "      <td>2023-09-25 14:34:00</td>\n",
              "      <td>V009371</td>\n",
              "      <td>...</td>\n",
              "      <td>Pakistan</td>\n",
              "      <td>1981-06-28</td>\n",
              "      <td>12508923.0</td>\n",
              "      <td>اسد الله محمد ريشام خان</td>\n",
              "      <td>effective</td>\n",
              "      <td>2023-10-13</td>\n",
              "      <td>2022-10-13</td>\n",
              "      <td>2368754</td>\n",
              "      <td>2223192.0</td>\n",
              "      <td>No</td>\n",
              "    </tr>\n",
              "    <tr>\n",
              "      <th>3501</th>\n",
              "      <td>38763</td>\n",
              "      <td>Investigation Office</td>\n",
              "      <td>IOTD202309302814</td>\n",
              "      <td>2023-09-30 18:14:43</td>\n",
              "      <td>2023-09-30 18:14:43</td>\n",
              "      <td>2023-09-30 18:14:43</td>\n",
              "      <td>2023-09-14 16:39:43</td>\n",
              "      <td>2023-09-14 16:39:43</td>\n",
              "      <td>2023-09-14 16:39:43</td>\n",
              "      <td>V009376</td>\n",
              "      <td>...</td>\n",
              "      <td>Bangladesh</td>\n",
              "      <td>1979-01-15</td>\n",
              "      <td>11951598.0</td>\n",
              "      <td>محمد تاج الدين محمد بيلايت حسين</td>\n",
              "      <td>effective</td>\n",
              "      <td>2024-02-15</td>\n",
              "      <td>2015-02-24</td>\n",
              "      <td>1587274</td>\n",
              "      <td>2101097.0</td>\n",
              "      <td>No</td>\n",
              "    </tr>\n",
              "  </tbody>\n",
              "</table>\n",
              "<p>3502 rows × 56 columns</p>\n",
              "</div>"
            ],
            "text/plain": [
              "          #               Section             Fine Number      Fine Date Time  \\\n",
              "0         3  Investigation Office  23082201010213461-DR01 2023-08-29 14:01:04   \n",
              "1        11  Investigation Office       22123107010238722 2023-01-11 12:39:07   \n",
              "2        12  Investigation Office       22123107020338722 2023-01-11 12:42:10   \n",
              "3        15  Investigation Office       22123107050638722 2023-01-11 12:47:50   \n",
              "4        16  Investigation Office       22123107060738722 2023-01-11 12:22:30   \n",
              "...     ...                   ...                     ...                 ...   \n",
              "3497  38754  Investigation Office        IOTD202309302805 2023-09-30 10:40:31   \n",
              "3498  38755  Investigation Office        IOTD202309302806 2023-09-30 11:49:50   \n",
              "3499  38757  Investigation Office        IOTD202309302808 2023-09-30 12:29:53   \n",
              "3500  38758  Investigation Office        IOTD202309302809 2023-09-30 13:28:11   \n",
              "3501  38763  Investigation Office        IOTD202309302814 2023-09-30 18:14:43   \n",
              "\n",
              "               Fine Date           Fine Time Violation Date Time  \\\n",
              "0    2023-08-29 14:01:04 2023-08-29 14:01:04 2023-08-22 01:01:02   \n",
              "1    2023-01-11 12:39:07 2023-01-11 12:39:07 2022-12-31 07:01:02   \n",
              "2    2023-01-11 12:42:10 2023-01-11 12:42:10 2022-12-31 07:02:03   \n",
              "3    2023-01-11 12:47:50 2023-01-11 12:47:50 2022-12-31 07:05:06   \n",
              "4    2023-01-11 12:22:30 2023-01-11 12:22:30 2022-12-31 07:06:07   \n",
              "...                  ...                 ...                 ...   \n",
              "3497 2023-09-30 10:40:31 2023-09-30 10:40:31 2023-09-20 10:00:00   \n",
              "3498 2023-09-30 11:49:50 2023-09-30 11:49:50 2023-09-25 18:25:00   \n",
              "3499 2023-09-30 12:29:53 2023-09-30 12:29:53 2023-09-26 08:39:00   \n",
              "3500 2023-09-30 13:28:11 2023-09-30 13:28:11 2023-09-25 14:34:00   \n",
              "3501 2023-09-30 18:14:43 2023-09-30 18:14:43 2023-09-14 16:39:43   \n",
              "\n",
              "          Violation Date      Violation Time Inspector ID  ... Nationality_y  \\\n",
              "0    2023-08-22 01:01:02 2023-08-22 01:01:02      V009534  ...       Nigeria   \n",
              "1    2022-12-31 07:01:02 2022-12-31 07:01:02        38722  ...         India   \n",
              "2    2022-12-31 07:02:03 2022-12-31 07:02:03        38722  ...      Pakistan   \n",
              "3    2022-12-31 07:05:06 2022-12-31 07:05:06        38722  ...      Pakistan   \n",
              "4    2022-12-31 07:06:07 2022-12-31 07:06:07        38722  ...      Ethiopia   \n",
              "...                  ...                 ...          ...  ...           ...   \n",
              "3497 2023-09-20 10:00:00 2023-09-20 10:00:00      V009371  ...           NaN   \n",
              "3498 2023-09-25 18:25:00 2023-09-25 18:25:00      V009531  ...      Cameroon   \n",
              "3499 2023-09-26 08:39:00 2023-09-26 08:39:00      V009371  ...           NaN   \n",
              "3500 2023-09-25 14:34:00 2023-09-25 14:34:00      V009371  ...      Pakistan   \n",
              "3501 2023-09-14 16:39:43 2023-09-14 16:39:43      V009376  ...    Bangladesh   \n",
              "\n",
              "     Date of Birth Traffic File        Name of the permit holder  \\\n",
              "0       1987-04-16   15748691.0      اولونرواجو ابيدين باميجبولا   \n",
              "1       1983-06-15   12435448.0            جاجاناتان سوبرامانيان   \n",
              "2       1994-12-27   13458451.0                على حسن صفدر حسين   \n",
              "3       1989-12-25   14530461.0              محمد مصدق طاهر صادق   \n",
              "4       1988-09-15   12828849.0             ديساليجن برهانوهادوش   \n",
              "...            ...          ...                              ...   \n",
              "3497           NaT          NaN                              NaN   \n",
              "3498    1999-07-16   15889283.0            كلينتون نوهكيكاه ليجو   \n",
              "3499           NaT          NaN                              NaN   \n",
              "3500    1981-06-28   12508923.0          اسد الله محمد ريشام خان   \n",
              "3501    1979-01-15   11951598.0  محمد تاج الدين محمد بيلايت حسين   \n",
              "\n",
              "     Permit Status Expiry Date Issue Date Permit number Administrative ID  \\\n",
              "0        effective  2023-10-26 2022-10-26       2382159         2223436.0   \n",
              "1        effective  2023-10-20 2014-10-29       1958661         2131299.0   \n",
              "2        effective  2024-01-25 2018-01-30        886589         2180213.0   \n",
              "3        effective  2023-08-30 2020-09-01       1692892         2201169.0   \n",
              "4        effective  2023-07-04 2016-07-10        409281         2160921.0   \n",
              "...            ...         ...        ...           ...               ...   \n",
              "3497           NaN         NaT        NaT          <NA>               NaN   \n",
              "3498     effective  2024-03-24 2023-03-24       2571655         2231831.0   \n",
              "3499           NaN         NaT        NaT          <NA>               NaN   \n",
              "3500     effective  2023-10-13 2022-10-13       2368754         2223192.0   \n",
              "3501     effective  2024-02-15 2015-02-24       1587274         2101097.0   \n",
              "\n",
              "     Status  \n",
              "0        No  \n",
              "1        No  \n",
              "2       Yes  \n",
              "3        No  \n",
              "4        No  \n",
              "...     ...  \n",
              "3497    NaN  \n",
              "3498     No  \n",
              "3499    NaN  \n",
              "3500     No  \n",
              "3501     No  \n",
              "\n",
              "[3502 rows x 56 columns]"
            ]
          },
          "execution_count": 70,
          "metadata": {},
          "output_type": "execute_result"
        }
      ],
      "source": [
        "rani=rani[rani.Section=='Investigation Office']\n",
        "merged=pd.merge(rani,permit,left_on='Permit No',right_on='Permit number',how='left')\n",
        "merged"
      ]
    },
    {
      "cell_type": "code",
      "execution_count": null,
      "metadata": {
        "colab": {
          "base_uri": "https://localhost:8080/"
        },
        "id": "PpresPG4V17u",
        "outputId": "5ee073e6-520a-4138-e544-189b0c01e382"
      },
      "outputs": [
        {
          "name": "stdout",
          "output_type": "stream",
          "text": [
            "<class 'pandas.core.frame.DataFrame'>\n",
            "Int64Index: 3502 entries, 0 to 3501\n",
            "Data columns (total 56 columns):\n",
            " #   Column                     Non-Null Count  Dtype         \n",
            "---  ------                     --------------  -----         \n",
            " 0   #                          3502 non-null   int64         \n",
            " 1   Section                    3502 non-null   object        \n",
            " 2   Fine Number                3502 non-null   object        \n",
            " 3   Fine Date Time             3502 non-null   datetime64[ns]\n",
            " 4   Fine Date                  3502 non-null   datetime64[ns]\n",
            " 5   Fine Time                  3502 non-null   datetime64[ns]\n",
            " 6   Violation Date Time        3411 non-null   datetime64[ns]\n",
            " 7   Violation Date             3411 non-null   datetime64[ns]\n",
            " 8   Violation Time             3411 non-null   datetime64[ns]\n",
            " 9   Inspector ID               3502 non-null   object        \n",
            " 10  Inspector Name             3502 non-null   object        \n",
            " 11  Location                   3501 non-null   object        \n",
            " 12  Violation Location         3450 non-null   object        \n",
            " 13  Side Number                3502 non-null   object        \n",
            " 14  Plate Number               3497 non-null   object        \n",
            " 15  Plate Color Code           3502 non-null   object        \n",
            " 16  Plate Category             3502 non-null   object        \n",
            " 17  Plate Source               3502 non-null   object        \n",
            " 18  Establishment Name         3502 non-null   object        \n",
            " 19  Violator ID                3502 non-null   object        \n",
            " 20  Violator Name              3502 non-null   object        \n",
            " 21  Nationality_x              3172 non-null   object        \n",
            " 22  Violator Mobile Number     1384 non-null   object        \n",
            " 23  Permit No                  3502 non-null   string        \n",
            " 24  Complaint Number           1347 non-null   object        \n",
            " 25  complain-date-time         1292 non-null   datetime64[ns]\n",
            " 26  Ticket Number              3502 non-null   object        \n",
            " 27  Ticket Date                3502 non-null   datetime64[ns]\n",
            " 28  Fine Amount                3502 non-null   int64         \n",
            " 29  Original Fine Amount       3502 non-null   int64         \n",
            " 30  Black Points               3502 non-null   int64         \n",
            " 31  Suspension Days            712 non-null    float64       \n",
            " 32  Suspension From Date Time  1 non-null      datetime64[ns]\n",
            " 33  Suspension To Date Time    1 non-null      datetime64[ns]\n",
            " 34  Fine Status                3481 non-null   object        \n",
            " 35  Disputed                   3502 non-null   object        \n",
            " 36  rms-ref-no                 1824 non-null   float64       \n",
            " 37  RMS Transfer Status        1824 non-null   object        \n",
            " 38  payment-acknowledge-no     824 non-null    object        \n",
            " 39  Payment Date               824 non-null    datetime64[ns]\n",
            " 40  Violation No               3502 non-null   int64         \n",
            " 41  Violation Name             3502 non-null   object        \n",
            " 42  Action Type                3502 non-null   object        \n",
            " 43  Violation Type             3502 non-null   object        \n",
            " 44  source                     3502 non-null   object        \n",
            " 45  General                    3287 non-null   float64       \n",
            " 46  Nationality_y              3287 non-null   object        \n",
            " 47  Date of Birth              3287 non-null   datetime64[ns]\n",
            " 48  Traffic File               3287 non-null   float64       \n",
            " 49  Name of the permit holder  3287 non-null   object        \n",
            " 50  Permit Status              3287 non-null   object        \n",
            " 51  Expiry Date                3287 non-null   datetime64[ns]\n",
            " 52  Issue Date                 3287 non-null   datetime64[ns]\n",
            " 53  Permit number              3287 non-null   string        \n",
            " 54  Administrative ID          3285 non-null   float64       \n",
            " 55  Status                     3285 non-null   object        \n",
            "dtypes: datetime64[ns](14), float64(5), int64(5), object(30), string(2)\n",
            "memory usage: 1.5+ MB\n"
          ]
        }
      ],
      "source": [
        "merged.info()"
      ]
    },
    {
      "cell_type": "code",
      "execution_count": 8,
      "metadata": {
        "id": "0QtFgVKGpXtu"
      },
      "outputs": [],
      "source": [
        "# mer=merged[merged['Administrative ID'].isna()]"
      ]
    },
    {
      "cell_type": "code",
      "execution_count": null,
      "metadata": {
        "id": "WDhMqiAAV4le"
      },
      "outputs": [],
      "source": [
        "# mer.to_csv(\"null_admin3287.csv\")"
      ]
    },
    {
      "cell_type": "code",
      "execution_count": null,
      "metadata": {
        "id": "5MlHKxonYOV4"
      },
      "outputs": [],
      "source": [
        "# merged1.to_csv(\"rani-merged.csv\")"
      ]
    },
    {
      "cell_type": "code",
      "execution_count": 71,
      "metadata": {
        "id": "XxeYmwINYZ0v"
      },
      "outputs": [],
      "source": [
        "july=pd.read_excel('salary.xlsx',sheet_name='July-Sep 2023')\n",
        "apr=pd.read_excel('salary.xlsx',sheet_name='Apr-June 2023')\n",
        "jan=pd.read_excel('salary.xlsx',sheet_name='Jan-Mar 2023')\n",
        "oct=pd.read_excel('salary.xlsx',sheet_name='Oct-Dec 2022')"
      ]
    },
    {
      "cell_type": "code",
      "execution_count": 72,
      "metadata": {},
      "outputs": [],
      "source": [
        "july=july.ffill()\n",
        "apr=apr.ffill()\n",
        "jan=jan.ffill()\n",
        "oct=oct.ffill()"
      ]
    },
    {
      "cell_type": "code",
      "execution_count": 73,
      "metadata": {
        "colab": {
          "base_uri": "https://localhost:8080/"
        },
        "id": "vAHXCA9bcaop",
        "outputId": "698d8c7e-5105-4c0c-8354-192483b408f8"
      },
      "outputs": [
        {
          "name": "stdout",
          "output_type": "stream",
          "text": [
            "<class 'pandas.core.frame.DataFrame'>\n",
            "Index: 155387 entries, 0 to 25579\n",
            "Data columns (total 21 columns):\n",
            " #   Column            Non-Null Count   Dtype         \n",
            "---  ------            --------------   -----         \n",
            " 0   Emp ID            155387 non-null  float64       \n",
            " 1   Employee Name     155387 non-null  object        \n",
            " 2   Section           155387 non-null  object        \n",
            " 3   Joining Date      155387 non-null  datetime64[ns]\n",
            " 4   Date of Birth     155387 non-null  object        \n",
            " 5   Status            155387 non-null  float64       \n",
            " 6   Gender            155387 non-null  object        \n",
            " 7   Nationality       155387 non-null  object        \n",
            " 8   Contact Number    155387 non-null  float64       \n",
            " 9   Year              155387 non-null  float64       \n",
            " 10  Mn                155387 non-null  float64       \n",
            " 11  Original Revenue  155387 non-null  float64       \n",
            " 12  Earned Revenue    155387 non-null  float64       \n",
            " 13  Commission        155387 non-null  float64       \n",
            " 14  Net Pay           155387 non-null  float64       \n",
            " 15  Leave Balance AL  155387 non-null  float64       \n",
            " 16  Leave Balance UL  155387 non-null  int64         \n",
            " 17  Accom             155387 non-null  int64         \n",
            " 18  Ov Pmt            155387 non-null  float64       \n",
            " 19  No. of Fines      155387 non-null  int64         \n",
            " 20  Traffic Fines     155387 non-null  int64         \n",
            "dtypes: datetime64[ns](1), float64(11), int64(4), object(5)\n",
            "memory usage: 26.1+ MB\n"
          ]
        }
      ],
      "source": [
        "sal=pd.concat([july,apr],axis=0)\n",
        "sal=pd.concat([sal,jan],axis=0)\n",
        "sal=pd.concat([sal,oct],axis=0)\n",
        "# sal=july.append(apr)\n",
        "# sal=sal.append(jan)\n",
        "# sal=sal.append(oct)\n",
        "sal.info()"
      ]
    },
    {
      "cell_type": "code",
      "execution_count": 75,
      "metadata": {},
      "outputs": [
        {
          "name": "stderr",
          "output_type": "stream",
          "text": [
            "C:\\Users\\manjusha.suku\\AppData\\Local\\Temp\\ipykernel_13140\\2282981529.py:10: SettingWithCopyWarning: \n",
            "A value is trying to be set on a copy of a slice from a DataFrame.\n",
            "Try using .loc[row_indexer,col_indexer] = value instead\n",
            "\n",
            "See the caveats in the documentation: https://pandas.pydata.org/pandas-docs/stable/user_guide/indexing.html#returning-a-view-versus-a-copy\n",
            "  merged1['Administrative ID']=merged1['Administrative ID'].astype('float').astype('int')\n",
            "C:\\Users\\manjusha.suku\\AppData\\Local\\Temp\\ipykernel_13140\\2282981529.py:16: FutureWarning: The behavior of DataFrame concatenation with empty or all-NA entries is deprecated. In a future version, this will no longer exclude empty or all-NA columns when determining the result dtypes. To retain the old behavior, exclude the relevant entries before the concat operation.\n",
            "  permit_all=pd.concat([permit_sal,permit_sal_new],axis=0)\n"
          ]
        }
      ],
      "source": [
        "sal['Joining Date']=sal['Joining Date'].dt.date\n",
        "sal['Date of Birth']=sal['Date of Birth'].astype(\"str\")\n",
        "sal['Date of Birth']=sal['Date of Birth'].apply(lambda x:x.split()[0])\n",
        "# pd.to_datetime(sal['Date of Birth']).dt.date\n",
        "sal1=sal.groupby(['Emp ID', 'Employee Name', 'Section', 'Status', 'Gender', 'Nationality','Joining Date','Date of Birth'])[['Mn', 'Original Revenue', 'Earned Revenue', 'Commission', 'Net Pay','Leave Balance AL', 'Leave Balance UL', 'Accom', 'Ov Pmt','No. of Fines', 'Traffic Fines']].agg('mean').reset_index()\n",
        "sal1['Emp ID']=sal1['Emp ID'].astype('int')\n",
        "sal1=sal1[ ~ sal1['Emp ID'].isna()]\n",
        "saal=sal1.drop_duplicates()\n",
        "merged1=merged[~ merged['Administrative ID'].isna()]\n",
        "merged1['Administrative ID']=merged1['Administrative ID'].astype('float').astype('int')\n",
        "permit_sal=pd.merge(merged1,saal,left_on='Administrative ID',right_on='Emp ID',how='left')\n",
        "permit_new=pd.read_excel(\"217_staff.xlsx\")\n",
        "permit_sal_new=pd.merge(permit_new,saal,left_on='Administrative ID',right_on='Emp ID',how='left')\n",
        "permit_sal_new\n",
        "permit_sal_new.drop(['Unnamed: 0', 'Unnamed: 25'],axis=1,inplace=True)\n",
        "permit_all=pd.concat([permit_sal,permit_sal_new],axis=0)\n",
        "permit_all['Joining Date']=pd.to_datetime(permit_all['Joining Date'])\n",
        "permit_all['Date of Birth_x']=pd.to_datetime(permit_all['Date of Birth_x']).dt.date"
      ]
    },
    {
      "cell_type": "code",
      "execution_count": null,
      "metadata": {},
      "outputs": [],
      "source": []
    },
    {
      "cell_type": "code",
      "execution_count": 254,
      "metadata": {},
      "outputs": [
        {
          "name": "stdout",
          "output_type": "stream",
          "text": [
            "<class 'pandas.core.series.Series'>\n",
            "Index: 3502 entries, 0 to 216\n",
            "Series name: Administrative ID\n",
            "Non-Null Count  Dtype  \n",
            "--------------  -----  \n",
            "3478 non-null   float64\n",
            "dtypes: float64(1)\n",
            "memory usage: 54.7 KB\n"
          ]
        }
      ],
      "source": [
        "permit_all['Administrative ID'].info()"
      ]
    },
    {
      "cell_type": "code",
      "execution_count": 74,
      "metadata": {},
      "outputs": [
        {
          "data": {
            "text/plain": [
              "Index(['#', 'Section_x', 'Fine Number', 'Fine Date Time', 'Fine Date',\n",
              "       'Fine Time', 'Violation Date Time', 'Violation Date', 'Violation Time',\n",
              "       'Inspector ID', 'Inspector Name', 'Location', 'Violation Location',\n",
              "       'Side Number', 'Plate Number', 'Plate Color Code', 'Plate Category',\n",
              "       'Plate Source', 'Establishment Name', 'Violator ID', 'Violator Name',\n",
              "       'Nationality_x', 'Violator Mobile Number', 'Permit No',\n",
              "       'Complaint Number', 'complain-date-time', 'Ticket Number',\n",
              "       'Ticket Date', 'Fine Amount', 'Original Fine Amount', 'Black Points',\n",
              "       'Suspension Days', 'Suspension From Date Time',\n",
              "       'Suspension To Date Time', 'Fine Status', 'Disputed', 'rms-ref-no',\n",
              "       'RMS Transfer Status', 'payment-acknowledge-no', 'Payment Date',\n",
              "       'Violation No', 'Violation Name', 'Action Type', 'Violation Type',\n",
              "       'source', 'General', 'Nationality_y', 'Date of Birth_x', 'Traffic File',\n",
              "       'Name of the permit holder', 'Permit Status', 'Expiry Date',\n",
              "       'Issue Date', 'Permit number', 'Administrative ID', 'Status_x',\n",
              "       'Emp ID', 'Employee Name', 'Section_y', 'Status_y', 'Gender',\n",
              "       'Nationality', 'Joining Date', 'Date of Birth_y', 'Mn',\n",
              "       'Original Revenue', 'Earned Revenue', 'Commission', 'Net Pay',\n",
              "       'Leave Balance AL', 'Leave Balance UL', 'Accom', 'Ov Pmt',\n",
              "       'No. of Fines', 'Traffic Fines', 'exp', 'age'],\n",
              "      dtype='object')"
            ]
          },
          "execution_count": 74,
          "metadata": {},
          "output_type": "execute_result"
        }
      ],
      "source": [
        "permit_all.columns"
      ]
    },
    {
      "cell_type": "code",
      "execution_count": 76,
      "metadata": {
        "id": "DpLcU91kjX8o"
      },
      "outputs": [],
      "source": [
        "\n",
        "import datetime\n",
        "def compute_age(dob):\n",
        "    today = datetime.date.today()\n",
        "   \n",
        "    age = today.year - dob.year - ((today.month, today.day) < (dob.month, dob.day))\n",
        "    return age"
      ]
    },
    {
      "cell_type": "code",
      "execution_count": 77,
      "metadata": {},
      "outputs": [],
      "source": [
        "import datetime\n",
        "\n",
        "def compute_age_in_months(dob):\n",
        "    today = datetime.date.today()\n",
        "   \n",
        "    age_in_months = (today.year - dob.year) * 12 + (today.month - dob.month)\n",
        "    return age_in_months"
      ]
    },
    {
      "cell_type": "code",
      "execution_count": 112,
      "metadata": {},
      "outputs": [],
      "source": [
        "import datetime\n",
        "\n",
        "\n",
        "def months_between_dates(row):\n",
        "    # row['Violation Date'].dt.Date ,row['Joining Date'].dt.Date\n",
        "    return  (row['Violation Date'].year - row['Joining Date'].year) * 12 + (row['Violation Date'].month - row['Joining Date'].month)\n",
        "\n",
        "\n",
        "\n"
      ]
    },
    {
      "cell_type": "code",
      "execution_count": 102,
      "metadata": {},
      "outputs": [
        {
          "data": {
            "text/plain": [
              "0       (2023, 2022, 10)\n",
              "1      (2022, 2013, 110)\n",
              "2       (2022, nan, nan)\n",
              "3       (2022, nan, nan)\n",
              "4       (2022, 2016, 77)\n",
              "             ...        \n",
              "212      (2023, 2023, 1)\n",
              "213      (2023, 2023, 1)\n",
              "214      (2023, 2023, 2)\n",
              "215      (2023, 2023, 2)\n",
              "216      (2023, 2023, 3)\n",
              "Length: 3502, dtype: object"
            ]
          },
          "execution_count": 102,
          "metadata": {},
          "output_type": "execute_result"
        }
      ],
      "source": [
        " "
      ]
    },
    {
      "cell_type": "code",
      "execution_count": 31,
      "metadata": {},
      "outputs": [
        {
          "name": "stderr",
          "output_type": "stream",
          "text": [
            "C:\\Users\\manjusha.suku\\AppData\\Local\\Temp\\ipykernel_13140\\2801035902.py:1: FutureWarning: The behavior of DataFrame concatenation with empty or all-NA entries is deprecated. In a future version, this will no longer exclude empty or all-NA columns when determining the result dtypes. To retain the old behavior, exclude the relevant entries before the concat operation.\n",
            "  permit_all=pd.concat([permit_sal,permit_sal_new],axis=0)\n"
          ]
        }
      ],
      "source": []
    },
    {
      "cell_type": "code",
      "execution_count": 32,
      "metadata": {
        "id": "H_WNVuKHkM6I"
      },
      "outputs": [],
      "source": [
        "# permit_all.to_csv(\"final_merged_with_sal_aggregated_new.csv\")"
      ]
    },
    {
      "cell_type": "code",
      "execution_count": 35,
      "metadata": {},
      "outputs": [],
      "source": []
    },
    {
      "cell_type": "code",
      "execution_count": 113,
      "metadata": {
        "colab": {
          "base_uri": "https://localhost:8080/"
        },
        "id": "Mp_SPS0NauBA",
        "outputId": "bff46d58-b0a1-4066-e864-e77e6f9e7615"
      },
      "outputs": [],
      "source": [
        "permit_all['exp']=permit_all['Joining Date'].apply(compute_age_in_months) \n",
        "s=permit_all[['Joining Date','Violation Date']]\n",
        "permit_all['exp_violation']=s.apply(months_between_dates,axis=1)\n",
        "\n",
        "permit_all['age']=permit_all['Date of Birth_x'].apply(compute_age) \n"
      ]
    },
    {
      "cell_type": "code",
      "execution_count": 122,
      "metadata": {},
      "outputs": [
        {
          "data": {
            "text/plain": [
              "0      0.0\n",
              "1      9.0\n",
              "2      NaN\n",
              "3      NaN\n",
              "4      6.0\n",
              "      ... \n",
              "212    0.0\n",
              "213    0.0\n",
              "214    0.0\n",
              "215    0.0\n",
              "216    0.0\n",
              "Name: exp_violation, Length: 3502, dtype: float64"
            ]
          },
          "execution_count": 122,
          "metadata": {},
          "output_type": "execute_result"
        }
      ],
      "source": []
    },
    {
      "cell_type": "code",
      "execution_count": 260,
      "metadata": {},
      "outputs": [
        {
          "name": "stdout",
          "output_type": "stream",
          "text": [
            "<class 'pandas.core.series.Series'>\n",
            "Index: 3502 entries, 0 to 216\n",
            "Series name: Administrative ID\n",
            "Non-Null Count  Dtype  \n",
            "--------------  -----  \n",
            "3478 non-null   float64\n",
            "dtypes: float64(1)\n",
            "memory usage: 54.7 KB\n"
          ]
        }
      ],
      "source": [
        "permit_all['Administrative ID'].info()"
      ]
    },
    {
      "cell_type": "code",
      "execution_count": 261,
      "metadata": {},
      "outputs": [
        {
          "name": "stderr",
          "output_type": "stream",
          "text": [
            "C:\\Users\\manjusha.suku\\AppData\\Local\\Temp\\ipykernel_13140\\1220976631.py:4: SettingWithCopyWarning: \n",
            "A value is trying to be set on a copy of a slice from a DataFrame.\n",
            "Try using .loc[row_indexer,col_indexer] = value instead\n",
            "\n",
            "See the caveats in the documentation: https://pandas.pydata.org/pandas-docs/stable/user_guide/indexing.html#returning-a-view-versus-a-copy\n",
            "  permit_all1['exp_violation_yr']=np.floor(permit_all1['exp_violation']/12)\n"
          ]
        }
      ],
      "source": [
        "import numpy as np\n",
        "\n",
        "permit_all1=permit_all[['Administrative ID','Violation Name','Violation Date','Violation Location','Joining Date','Original Fine Amount', 'Black Points', 'Section_y',  'Gender','Nationality','Original Revenue', 'Earned Revenue', 'Commission', 'Net Pay','Ov Pmt', 'Traffic Fines', 'exp', 'age','exp_violation']]\n",
        "permit_all1['exp_violation_yr']=np.floor(permit_all1['exp_violation']/12)\n",
        "permit_all1.to_csv(\"permit_all1_all.csv\")"
      ]
    },
    {
      "cell_type": "markdown",
      "metadata": {},
      "source": [
        "# ################################################################################################################"
      ]
    },
    {
      "cell_type": "code",
      "execution_count": 270,
      "metadata": {
        "id": "2yg__clbrIyy"
      },
      "outputs": [],
      "source": [
        "conduct=permit_all1[(permit_all1['Violation Name'].str.startswith(\"1-52\")) | (permit_all1['Violation Name'].str.startswith(\"1-60\")) ]\n",
        "reckless=permit_all1[(permit_all1['Violation Name'].str.startswith(\"1-36\"))  ]\n",
        "refusal=permit_all1[(permit_all1['Violation Name'].str.startswith(\"1-34\"))  ]\n",
        "extend=permit_all1[(permit_all1['Violation Name'].str.startswith(\"1-43\"))  ]\n",
        "geogra=permit_all1[(permit_all1['Violation Name'].str.startswith(\"1-27\"))  ]"
      ]
    },
    {
      "cell_type": "code",
      "execution_count": 116,
      "metadata": {},
      "outputs": [],
      "source": []
    },
    {
      "cell_type": "code",
      "execution_count": 117,
      "metadata": {},
      "outputs": [],
      "source": []
    },
    {
      "cell_type": "code",
      "execution_count": 109,
      "metadata": {},
      "outputs": [],
      "source": []
    },
    {
      "cell_type": "code",
      "execution_count": 110,
      "metadata": {},
      "outputs": [],
      "source": []
    },
    {
      "cell_type": "code",
      "execution_count": 44,
      "metadata": {
        "colab": {
          "base_uri": "https://localhost:8080/"
        },
        "id": "6qlCu7-5r1Tu",
        "outputId": "6d177529-3583-4a30-8007-d1aced76d840"
      },
      "outputs": [
        {
          "data": {
            "text/plain": [
              "<AxesSubplot:ylabel='Frequency'>"
            ]
          },
          "execution_count": 44,
          "metadata": {},
          "output_type": "execute_result"
        },
        {
          "data": {
            "image/png": "[encoded data removed]",
            "text/plain": [
              "<Figure size 640x480 with 1 Axes>"
            ]
          },
          "metadata": {},
          "output_type": "display_data"
        }
      ],
      "source": [
        "# conduct.age.plot(kind='hist')\n",
        "# reckless.age.plot(kind='hist')\n",
        "# refusal.age.plot(kind='hist')\n",
        "# extend.age.plot(kind='hist')\n",
        "# geogra.age.plot(kind='hist')\n"
      ]
    },
    {
      "cell_type": "code",
      "execution_count": 45,
      "metadata": {
        "id": "33S7tCmlseQS"
      },
      "outputs": [
        {
          "name": "stdout",
          "output_type": "stream",
          "text": [
            "14233.078155448602\n",
            "13276.465333548163\n",
            "13908.165932636193\n",
            "12633.920580926273\n",
            "14318.671414526436\n"
          ]
        }
      ],
      "source": [
        "# print(conduct['Original Revenue'].mean())\n",
        "# print(reckless['Original Revenue'].mean())\n",
        "# print(refusal['Original Revenue'].mean())\n",
        "# print(extend['Original Revenue'].mean())\n",
        "# print(geogra['Original Revenue'].mean())"
      ]
    },
    {
      "cell_type": "code",
      "execution_count": 263,
      "metadata": {},
      "outputs": [
        {
          "name": "stdout",
          "output_type": "stream",
          "text": [
            "2016.9993485883267\n",
            "1745.120803853429\n",
            "1938.9656718571744\n",
            "1398.8574571071167\n",
            "2036.3043260212385\n"
          ]
        }
      ],
      "source": [
        "print(conduct[ 'Net Pay'].mean())\n",
        "print(reckless[ 'Net Pay'].mean())\n",
        "print(refusal[ 'Net Pay'].mean())\n",
        "print(extend[ 'Net Pay'].mean())\n",
        "print(geogra[ 'Net Pay'].mean())"
      ]
    },
    {
      "cell_type": "code",
      "execution_count": 264,
      "metadata": {},
      "outputs": [
        {
          "name": "stdout",
          "output_type": "stream",
          "text": [
            "38.7248427672956\n",
            "36.97217928902627\n",
            "37.109540636042404\n",
            "37.00638977635783\n",
            "36.6764705882353\n"
          ]
        }
      ],
      "source": [
        "print(conduct[ 'age'].mean())\n",
        "print(reckless[ 'age'].mean())\n",
        "print(refusal[ 'age'].mean())\n",
        "print(extend[ 'age'].mean())\n",
        "print(geogra[ 'age'].mean())"
      ]
    },
    {
      "cell_type": "code",
      "execution_count": 265,
      "metadata": {},
      "outputs": [
        {
          "name": "stdout",
          "output_type": "stream",
          "text": [
            "<class 'pandas.core.frame.DataFrame'>\n",
            "Index: 3502 entries, 0 to 216\n",
            "Data columns (total 20 columns):\n",
            " #   Column                Non-Null Count  Dtype         \n",
            "---  ------                --------------  -----         \n",
            " 0   Administrative ID     3478 non-null   float64       \n",
            " 1   Violation Name        3502 non-null   object        \n",
            " 2   Violation Date        3411 non-null   datetime64[ns]\n",
            " 3   Violation Location    3450 non-null   object        \n",
            " 4   Joining Date          3149 non-null   datetime64[ns]\n",
            " 5   Original Fine Amount  3502 non-null   int64         \n",
            " 6   Black Points          3502 non-null   int64         \n",
            " 7   Section_y             3149 non-null   object        \n",
            " 8   Gender                3149 non-null   object        \n",
            " 9   Nationality           3149 non-null   object        \n",
            " 10  Original Revenue      3149 non-null   float64       \n",
            " 11  Earned Revenue        3149 non-null   float64       \n",
            " 12  Commission            3149 non-null   float64       \n",
            " 13  Net Pay               3149 non-null   float64       \n",
            " 14  Ov Pmt                3149 non-null   float64       \n",
            " 15  Traffic Fines         3149 non-null   float64       \n",
            " 16  exp                   3149 non-null   float64       \n",
            " 17  age                   3287 non-null   float64       \n",
            " 18  exp_violation         3072 non-null   float64       \n",
            " 19  exp_violation_yr      3072 non-null   float64       \n",
            "dtypes: datetime64[ns](2), float64(11), int64(2), object(5)\n",
            "memory usage: 574.5+ KB\n"
          ]
        }
      ],
      "source": [
        "permit_all1.info()"
      ]
    },
    {
      "cell_type": "code",
      "execution_count": 271,
      "metadata": {},
      "outputs": [
        {
          "ename": "PermissionError",
          "evalue": "[Errno 13] Permission denied: 'employ_value_count.csv'",
          "output_type": "error",
          "traceback": [
            "\u001b[1;31m---------------------------------------------------------------------------\u001b[0m",
            "\u001b[1;31mPermissionError\u001b[0m                           Traceback (most recent call last)",
            "\u001b[1;32mf:\\Projects\\driver\\Oct_Penalty\\rani.ipynb Cell 44\u001b[0m line \u001b[0;36m<cell line: 1>\u001b[1;34m()\u001b[0m\n\u001b[1;32m----> <a href='vscode-notebook-cell:/f%3A/Projects/driver/Oct_Penalty/rani.ipynb#X66sZmlsZQ%3D%3D?line=0'>1</a>\u001b[0m permit_all1[\u001b[39m'\u001b[39;49m\u001b[39mAdministrative ID\u001b[39;49m\u001b[39m'\u001b[39;49m]\u001b[39m.\u001b[39;49mvalue_counts()\u001b[39m.\u001b[39;49mto_csv(\u001b[39m\"\u001b[39;49m\u001b[39memploy_value_count.csv\u001b[39;49m\u001b[39m\"\u001b[39;49m)\n",
            "File \u001b[1;32mf:\\Anaconda3\\envs\\py3.9\\lib\\site-packages\\pandas\\core\\generic.py:3902\u001b[0m, in \u001b[0;36mNDFrame.to_csv\u001b[1;34m(self, path_or_buf, sep, na_rep, float_format, columns, header, index, index_label, mode, encoding, compression, quoting, quotechar, lineterminator, chunksize, date_format, doublequote, escapechar, decimal, errors, storage_options)\u001b[0m\n\u001b[0;32m   3891\u001b[0m df \u001b[39m=\u001b[39m \u001b[39mself\u001b[39m \u001b[39mif\u001b[39;00m \u001b[39misinstance\u001b[39m(\u001b[39mself\u001b[39m, ABCDataFrame) \u001b[39melse\u001b[39;00m \u001b[39mself\u001b[39m\u001b[39m.\u001b[39mto_frame()\n\u001b[0;32m   3893\u001b[0m formatter \u001b[39m=\u001b[39m DataFrameFormatter(\n\u001b[0;32m   3894\u001b[0m     frame\u001b[39m=\u001b[39mdf,\n\u001b[0;32m   3895\u001b[0m     header\u001b[39m=\u001b[39mheader,\n\u001b[1;32m   (...)\u001b[0m\n\u001b[0;32m   3899\u001b[0m     decimal\u001b[39m=\u001b[39mdecimal,\n\u001b[0;32m   3900\u001b[0m )\n\u001b[1;32m-> 3902\u001b[0m \u001b[39mreturn\u001b[39;00m DataFrameRenderer(formatter)\u001b[39m.\u001b[39;49mto_csv(\n\u001b[0;32m   3903\u001b[0m     path_or_buf,\n\u001b[0;32m   3904\u001b[0m     lineterminator\u001b[39m=\u001b[39;49mlineterminator,\n\u001b[0;32m   3905\u001b[0m     sep\u001b[39m=\u001b[39;49msep,\n\u001b[0;32m   3906\u001b[0m     encoding\u001b[39m=\u001b[39;49mencoding,\n\u001b[0;32m   3907\u001b[0m     errors\u001b[39m=\u001b[39;49merrors,\n\u001b[0;32m   3908\u001b[0m     compression\u001b[39m=\u001b[39;49mcompression,\n\u001b[0;32m   3909\u001b[0m     quoting\u001b[39m=\u001b[39;49mquoting,\n\u001b[0;32m   3910\u001b[0m     columns\u001b[39m=\u001b[39;49mcolumns,\n\u001b[0;32m   3911\u001b[0m     index_label\u001b[39m=\u001b[39;49mindex_label,\n\u001b[0;32m   3912\u001b[0m     mode\u001b[39m=\u001b[39;49mmode,\n\u001b[0;32m   3913\u001b[0m     chunksize\u001b[39m=\u001b[39;49mchunksize,\n\u001b[0;32m   3914\u001b[0m     quotechar\u001b[39m=\u001b[39;49mquotechar,\n\u001b[0;32m   3915\u001b[0m     date_format\u001b[39m=\u001b[39;49mdate_format,\n\u001b[0;32m   3916\u001b[0m     doublequote\u001b[39m=\u001b[39;49mdoublequote,\n\u001b[0;32m   3917\u001b[0m     escapechar\u001b[39m=\u001b[39;49mescapechar,\n\u001b[0;32m   3918\u001b[0m     storage_options\u001b[39m=\u001b[39;49mstorage_options,\n\u001b[0;32m   3919\u001b[0m )\n",
            "File \u001b[1;32mf:\\Anaconda3\\envs\\py3.9\\lib\\site-packages\\pandas\\io\\formats\\format.py:1152\u001b[0m, in \u001b[0;36mDataFrameRenderer.to_csv\u001b[1;34m(self, path_or_buf, encoding, sep, columns, index_label, mode, compression, quoting, quotechar, lineterminator, chunksize, date_format, doublequote, escapechar, errors, storage_options)\u001b[0m\n\u001b[0;32m   1131\u001b[0m     created_buffer \u001b[39m=\u001b[39m \u001b[39mFalse\u001b[39;00m\n\u001b[0;32m   1133\u001b[0m csv_formatter \u001b[39m=\u001b[39m CSVFormatter(\n\u001b[0;32m   1134\u001b[0m     path_or_buf\u001b[39m=\u001b[39mpath_or_buf,\n\u001b[0;32m   1135\u001b[0m     lineterminator\u001b[39m=\u001b[39mlineterminator,\n\u001b[1;32m   (...)\u001b[0m\n\u001b[0;32m   1150\u001b[0m     formatter\u001b[39m=\u001b[39m\u001b[39mself\u001b[39m\u001b[39m.\u001b[39mfmt,\n\u001b[0;32m   1151\u001b[0m )\n\u001b[1;32m-> 1152\u001b[0m csv_formatter\u001b[39m.\u001b[39;49msave()\n\u001b[0;32m   1154\u001b[0m \u001b[39mif\u001b[39;00m created_buffer:\n\u001b[0;32m   1155\u001b[0m     \u001b[39massert\u001b[39;00m \u001b[39misinstance\u001b[39m(path_or_buf, StringIO)\n",
            "File \u001b[1;32mf:\\Anaconda3\\envs\\py3.9\\lib\\site-packages\\pandas\\io\\formats\\csvs.py:247\u001b[0m, in \u001b[0;36mCSVFormatter.save\u001b[1;34m(self)\u001b[0m\n\u001b[0;32m    243\u001b[0m \u001b[39m\"\"\"\u001b[39;00m\n\u001b[0;32m    244\u001b[0m \u001b[39mCreate the writer & save.\u001b[39;00m\n\u001b[0;32m    245\u001b[0m \u001b[39m\"\"\"\u001b[39;00m\n\u001b[0;32m    246\u001b[0m \u001b[39m# apply compression and byte/text conversion\u001b[39;00m\n\u001b[1;32m--> 247\u001b[0m \u001b[39mwith\u001b[39;00m get_handle(\n\u001b[0;32m    248\u001b[0m     \u001b[39mself\u001b[39;49m\u001b[39m.\u001b[39;49mfilepath_or_buffer,\n\u001b[0;32m    249\u001b[0m     \u001b[39mself\u001b[39;49m\u001b[39m.\u001b[39;49mmode,\n\u001b[0;32m    250\u001b[0m     encoding\u001b[39m=\u001b[39;49m\u001b[39mself\u001b[39;49m\u001b[39m.\u001b[39;49mencoding,\n\u001b[0;32m    251\u001b[0m     errors\u001b[39m=\u001b[39;49m\u001b[39mself\u001b[39;49m\u001b[39m.\u001b[39;49merrors,\n\u001b[0;32m    252\u001b[0m     compression\u001b[39m=\u001b[39;49m\u001b[39mself\u001b[39;49m\u001b[39m.\u001b[39;49mcompression,\n\u001b[0;32m    253\u001b[0m     storage_options\u001b[39m=\u001b[39;49m\u001b[39mself\u001b[39;49m\u001b[39m.\u001b[39;49mstorage_options,\n\u001b[0;32m    254\u001b[0m ) \u001b[39mas\u001b[39;00m handles:\n\u001b[0;32m    255\u001b[0m     \u001b[39m# Note: self.encoding is irrelevant here\u001b[39;00m\n\u001b[0;32m    256\u001b[0m     \u001b[39mself\u001b[39m\u001b[39m.\u001b[39mwriter \u001b[39m=\u001b[39m csvlib\u001b[39m.\u001b[39mwriter(\n\u001b[0;32m    257\u001b[0m         handles\u001b[39m.\u001b[39mhandle,\n\u001b[0;32m    258\u001b[0m         lineterminator\u001b[39m=\u001b[39m\u001b[39mself\u001b[39m\u001b[39m.\u001b[39mlineterminator,\n\u001b[1;32m   (...)\u001b[0m\n\u001b[0;32m    263\u001b[0m         quotechar\u001b[39m=\u001b[39m\u001b[39mself\u001b[39m\u001b[39m.\u001b[39mquotechar,\n\u001b[0;32m    264\u001b[0m     )\n\u001b[0;32m    266\u001b[0m     \u001b[39mself\u001b[39m\u001b[39m.\u001b[39m_save()\n",
            "File \u001b[1;32mf:\\Anaconda3\\envs\\py3.9\\lib\\site-packages\\pandas\\io\\common.py:863\u001b[0m, in \u001b[0;36mget_handle\u001b[1;34m(path_or_buf, mode, encoding, compression, memory_map, is_text, errors, storage_options)\u001b[0m\n\u001b[0;32m    858\u001b[0m \u001b[39melif\u001b[39;00m \u001b[39misinstance\u001b[39m(handle, \u001b[39mstr\u001b[39m):\n\u001b[0;32m    859\u001b[0m     \u001b[39m# Check whether the filename is to be opened in binary mode.\u001b[39;00m\n\u001b[0;32m    860\u001b[0m     \u001b[39m# Binary mode does not support 'encoding' and 'newline'.\u001b[39;00m\n\u001b[0;32m    861\u001b[0m     \u001b[39mif\u001b[39;00m ioargs\u001b[39m.\u001b[39mencoding \u001b[39mand\u001b[39;00m \u001b[39m\"\u001b[39m\u001b[39mb\u001b[39m\u001b[39m\"\u001b[39m \u001b[39mnot\u001b[39;00m \u001b[39min\u001b[39;00m ioargs\u001b[39m.\u001b[39mmode:\n\u001b[0;32m    862\u001b[0m         \u001b[39m# Encoding\u001b[39;00m\n\u001b[1;32m--> 863\u001b[0m         handle \u001b[39m=\u001b[39m \u001b[39mopen\u001b[39;49m(\n\u001b[0;32m    864\u001b[0m             handle,\n\u001b[0;32m    865\u001b[0m             ioargs\u001b[39m.\u001b[39;49mmode,\n\u001b[0;32m    866\u001b[0m             encoding\u001b[39m=\u001b[39;49mioargs\u001b[39m.\u001b[39;49mencoding,\n\u001b[0;32m    867\u001b[0m             errors\u001b[39m=\u001b[39;49merrors,\n\u001b[0;32m    868\u001b[0m             newline\u001b[39m=\u001b[39;49m\u001b[39m\"\u001b[39;49m\u001b[39m\"\u001b[39;49m,\n\u001b[0;32m    869\u001b[0m         )\n\u001b[0;32m    870\u001b[0m     \u001b[39melse\u001b[39;00m:\n\u001b[0;32m    871\u001b[0m         \u001b[39m# Binary mode\u001b[39;00m\n\u001b[0;32m    872\u001b[0m         handle \u001b[39m=\u001b[39m \u001b[39mopen\u001b[39m(handle, ioargs\u001b[39m.\u001b[39mmode)\n",
            "\u001b[1;31mPermissionError\u001b[0m: [Errno 13] Permission denied: 'employ_value_count.csv'"
          ]
        }
      ],
      "source": [
        "permit_all1['Administrative ID'].value_counts().to_csv(\"employ_value_count.csv\")"
      ]
    },
    {
      "cell_type": "code",
      "execution_count": 272,
      "metadata": {},
      "outputs": [
        {
          "data": {
            "text/plain": [
              "exp_violation_yr\n",
              "0.0     0.411458\n",
              "3.0     0.096680\n",
              "6.0     0.058594\n",
              "5.0     0.057943\n",
              "2.0     0.050456\n",
              "1.0     0.049805\n",
              "8.0     0.045898\n",
              "4.0     0.043294\n",
              "9.0     0.031901\n",
              "7.0     0.030924\n",
              "13.0    0.023438\n",
              "14.0    0.021810\n",
              "12.0    0.018229\n",
              "10.0    0.014323\n",
              "11.0    0.011719\n",
              "17.0    0.006510\n",
              "15.0    0.006510\n",
              "19.0    0.002930\n",
              "16.0    0.002604\n",
              "24.0    0.002604\n",
              "20.0    0.002279\n",
              "18.0    0.002279\n",
              "25.0    0.002279\n",
              "23.0    0.001628\n",
              "21.0    0.001628\n",
              "27.0    0.001302\n",
              "26.0    0.000651\n",
              "22.0    0.000326\n",
              "Name: proportion, dtype: float64"
            ]
          },
          "execution_count": 272,
          "metadata": {},
          "output_type": "execute_result"
        }
      ],
      "source": [
        "permit_all1['exp_violation_yr'].value_counts(normalize=True)"
      ]
    },
    {
      "cell_type": "code",
      "execution_count": null,
      "metadata": {},
      "outputs": [],
      "source": []
    },
    {
      "cell_type": "code",
      "execution_count": 273,
      "metadata": {},
      "outputs": [
        {
          "data": {
            "text/plain": [
              "exp_violation_yr\n",
              "0.0     0.287986\n",
              "3.0     0.106007\n",
              "6.0     0.077739\n",
              "1.0     0.058304\n",
              "5.0     0.058304\n",
              "8.0     0.056537\n",
              "2.0     0.051237\n",
              "9.0     0.049470\n",
              "4.0     0.049470\n",
              "7.0     0.035336\n",
              "14.0    0.035336\n",
              "12.0    0.030035\n",
              "13.0    0.030035\n",
              "10.0    0.017668\n",
              "11.0    0.017668\n",
              "15.0    0.008834\n",
              "25.0    0.005300\n",
              "21.0    0.003534\n",
              "16.0    0.003534\n",
              "18.0    0.003534\n",
              "17.0    0.003534\n",
              "20.0    0.001767\n",
              "24.0    0.001767\n",
              "23.0    0.001767\n",
              "26.0    0.001767\n",
              "19.0    0.001767\n",
              "27.0    0.001767\n",
              "Name: proportion, dtype: float64"
            ]
          },
          "execution_count": 273,
          "metadata": {},
          "output_type": "execute_result"
        }
      ],
      "source": [
        "conduct['exp_violation_yr'].value_counts(normalize=True)\n"
      ]
    },
    {
      "cell_type": "code",
      "execution_count": 274,
      "metadata": {},
      "outputs": [
        {
          "data": {
            "text/plain": [
              "exp_violation_yr\n",
              "0.0     0.437107\n",
              "3.0     0.078616\n",
              "6.0     0.075472\n",
              "5.0     0.053459\n",
              "2.0     0.044025\n",
              "4.0     0.044025\n",
              "1.0     0.040881\n",
              "8.0     0.040881\n",
              "9.0     0.037736\n",
              "7.0     0.029874\n",
              "13.0    0.028302\n",
              "14.0    0.017296\n",
              "11.0    0.011006\n",
              "12.0    0.011006\n",
              "10.0    0.009434\n",
              "15.0    0.007862\n",
              "17.0    0.006289\n",
              "20.0    0.004717\n",
              "19.0    0.004717\n",
              "24.0    0.004717\n",
              "21.0    0.003145\n",
              "16.0    0.003145\n",
              "23.0    0.001572\n",
              "18.0    0.001572\n",
              "27.0    0.001572\n",
              "26.0    0.001572\n",
              "Name: proportion, dtype: float64"
            ]
          },
          "execution_count": 274,
          "metadata": {},
          "output_type": "execute_result"
        }
      ],
      "source": [
        "reckless['exp_violation_yr'].value_counts(normalize=True)\n"
      ]
    },
    {
      "cell_type": "code",
      "execution_count": 275,
      "metadata": {},
      "outputs": [
        {
          "data": {
            "text/plain": [
              "exp_violation_yr\n",
              "0.0     0.396262\n",
              "3.0     0.108411\n",
              "5.0     0.061682\n",
              "1.0     0.057944\n",
              "6.0     0.056075\n",
              "2.0     0.054206\n",
              "4.0     0.052336\n",
              "8.0     0.037383\n",
              "9.0     0.033645\n",
              "7.0     0.028037\n",
              "14.0    0.022430\n",
              "13.0    0.020561\n",
              "12.0    0.020561\n",
              "10.0    0.013084\n",
              "17.0    0.007477\n",
              "19.0    0.005607\n",
              "15.0    0.005607\n",
              "11.0    0.005607\n",
              "16.0    0.003738\n",
              "24.0    0.001869\n",
              "25.0    0.001869\n",
              "20.0    0.001869\n",
              "22.0    0.001869\n",
              "23.0    0.001869\n",
              "Name: proportion, dtype: float64"
            ]
          },
          "execution_count": 275,
          "metadata": {},
          "output_type": "execute_result"
        }
      ],
      "source": [
        "refusal['exp_violation_yr'].value_counts(normalize=True)\n"
      ]
    },
    {
      "cell_type": "code",
      "execution_count": 276,
      "metadata": {},
      "outputs": [
        {
          "data": {
            "text/plain": [
              "exp_violation_yr\n",
              "0.0     0.623794\n",
              "3.0     0.057878\n",
              "1.0     0.045016\n",
              "8.0     0.041801\n",
              "6.0     0.032154\n",
              "2.0     0.032154\n",
              "7.0     0.025723\n",
              "14.0    0.025723\n",
              "4.0     0.019293\n",
              "5.0     0.019293\n",
              "13.0    0.012862\n",
              "9.0     0.012862\n",
              "12.0    0.012862\n",
              "10.0    0.012862\n",
              "16.0    0.006431\n",
              "27.0    0.003215\n",
              "15.0    0.003215\n",
              "25.0    0.003215\n",
              "17.0    0.003215\n",
              "11.0    0.003215\n",
              "20.0    0.003215\n",
              "Name: proportion, dtype: float64"
            ]
          },
          "execution_count": 276,
          "metadata": {},
          "output_type": "execute_result"
        }
      ],
      "source": [
        "extend['exp_violation_yr'].value_counts(normalize=True)\n"
      ]
    },
    {
      "cell_type": "code",
      "execution_count": 277,
      "metadata": {},
      "outputs": [
        {
          "data": {
            "text/plain": [
              "exp_violation_yr\n",
              "0.0     0.340426\n",
              "3.0     0.159574\n",
              "9.0     0.074468\n",
              "2.0     0.053191\n",
              "6.0     0.042553\n",
              "8.0     0.042553\n",
              "10.0    0.042553\n",
              "5.0     0.042553\n",
              "13.0    0.031915\n",
              "4.0     0.031915\n",
              "14.0    0.031915\n",
              "7.0     0.031915\n",
              "1.0     0.031915\n",
              "11.0    0.021277\n",
              "23.0    0.010638\n",
              "18.0    0.010638\n",
              "Name: proportion, dtype: float64"
            ]
          },
          "execution_count": 277,
          "metadata": {},
          "output_type": "execute_result"
        }
      ],
      "source": [
        "geogra['exp_violation_yr'].value_counts(normalize=True)"
      ]
    },
    {
      "cell_type": "code",
      "execution_count": 278,
      "metadata": {},
      "outputs": [
        {
          "name": "stdout",
          "output_type": "stream",
          "text": [
            "38.7248427672956\n",
            "36.97217928902627\n",
            "37.109540636042404\n",
            "37.00638977635783\n",
            "36.6764705882353\n"
          ]
        }
      ],
      "source": [
        "print(conduct[ 'age'].mean())\n",
        "print(reckless[ 'age'].mean())\n",
        "print(refusal[ 'age'].mean())\n",
        "print(extend[ 'age'].mean())\n",
        "print(geogra[ 'age'].mean())"
      ]
    },
    {
      "cell_type": "code",
      "execution_count": null,
      "metadata": {},
      "outputs": [],
      "source": []
    },
    {
      "cell_type": "code",
      "execution_count": 279,
      "metadata": {},
      "outputs": [
        {
          "data": {
            "text/plain": [
              "(11378.274900934073, 13866.1299714795, 13790.08426647116, 15177.801075524281)"
            ]
          },
          "execution_count": 279,
          "metadata": {},
          "output_type": "execute_result"
        }
      ],
      "source": [
        "permit_all1[permit_all1['exp_violation_yr']==0]['Original Revenue'].mean(),permit_all1[permit_all1['exp_violation_yr']==1]['Original Revenue'].mean(),permit_all1[permit_all1['exp_violation_yr']==2]['Original Revenue'].mean(),permit_all1[permit_all1['exp_violation_yr']>=4]['Original Revenue'].mean()"
      ]
    },
    {
      "cell_type": "code",
      "execution_count": 280,
      "metadata": {},
      "outputs": [
        {
          "data": {
            "text/plain": [
              "(1006.5, 20865.049166666668)"
            ]
          },
          "execution_count": 280,
          "metadata": {},
          "output_type": "execute_result"
        }
      ],
      "source": [
        "permit_all1[permit_all1['exp_violation_yr']==0]['Original Revenue'].min(),permit_all1[permit_all1['exp_violation_yr']==0]['Original Revenue'].max()"
      ]
    },
    {
      "cell_type": "code",
      "execution_count": 285,
      "metadata": {},
      "outputs": [
        {
          "name": "stdout",
          "output_type": "stream",
          "text": [
            "<class 'pandas.core.frame.DataFrame'>\n",
            "Index: 3502 entries, 0 to 216\n",
            "Data columns (total 20 columns):\n",
            " #   Column                Non-Null Count  Dtype         \n",
            "---  ------                --------------  -----         \n",
            " 0   Administrative ID     3478 non-null   float64       \n",
            " 1   Violation Name        3502 non-null   object        \n",
            " 2   Violation Date        3411 non-null   datetime64[ns]\n",
            " 3   Violation Location    3450 non-null   object        \n",
            " 4   Joining Date          3149 non-null   datetime64[ns]\n",
            " 5   Original Fine Amount  3502 non-null   int64         \n",
            " 6   Black Points          3502 non-null   int64         \n",
            " 7   Section_y             3149 non-null   object        \n",
            " 8   Gender                3149 non-null   object        \n",
            " 9   Nationality           3149 non-null   object        \n",
            " 10  Original Revenue      3149 non-null   float64       \n",
            " 11  Earned Revenue        3149 non-null   float64       \n",
            " 12  Commission            3149 non-null   float64       \n",
            " 13  Net Pay               3149 non-null   float64       \n",
            " 14  Ov Pmt                3149 non-null   float64       \n",
            " 15  Traffic Fines         3149 non-null   float64       \n",
            " 16  exp                   3149 non-null   float64       \n",
            " 17  age                   3287 non-null   float64       \n",
            " 18  exp_violation         3072 non-null   float64       \n",
            " 19  exp_violation_yr      3072 non-null   float64       \n",
            "dtypes: datetime64[ns](2), float64(11), int64(2), object(5)\n",
            "memory usage: 574.5+ KB\n"
          ]
        }
      ],
      "source": [
        "permit_all1.info()"
      ]
    },
    {
      "cell_type": "code",
      "execution_count": 286,
      "metadata": {},
      "outputs": [
        {
          "data": {
            "text/plain": [
              "count     1264.000000\n",
              "mean     11378.274901\n",
              "std       3527.598279\n",
              "min       1006.500000\n",
              "25%       9039.459583\n",
              "50%      11565.393333\n",
              "75%      13998.219306\n",
              "max      20865.049167\n",
              "Name: Original Revenue, dtype: float64"
            ]
          },
          "execution_count": 286,
          "metadata": {},
          "output_type": "execute_result"
        }
      ],
      "source": [
        "permit_all1[permit_all1['exp_violation_yr']==0]['Original Revenue'].describe()"
      ]
    },
    {
      "cell_type": "code",
      "execution_count": 282,
      "metadata": {},
      "outputs": [
        {
          "data": {
            "text/plain": [
              "count      297.000000\n",
              "mean     15011.332980\n",
              "std       3218.909202\n",
              "min       6078.000000\n",
              "25%      13011.370000\n",
              "50%      14736.473333\n",
              "75%      17208.359167\n",
              "max      24172.878333\n",
              "Name: Original Revenue, dtype: float64"
            ]
          },
          "execution_count": 282,
          "metadata": {},
          "output_type": "execute_result"
        }
      ],
      "source": [
        "permit_all1[permit_all1['exp_violation_yr']==3]['Original Revenue'].describe()"
      ]
    },
    {
      "cell_type": "code",
      "execution_count": 283,
      "metadata": {},
      "outputs": [
        {
          "data": {
            "text/plain": [
              "count     3149.000000\n",
              "mean     13516.028688\n",
              "std       3878.006355\n",
              "min       1006.500000\n",
              "25%      11068.208333\n",
              "50%      13707.268333\n",
              "75%      15946.879167\n",
              "max      28175.542500\n",
              "Name: Original Revenue, dtype: float64"
            ]
          },
          "execution_count": 283,
          "metadata": {},
          "output_type": "execute_result"
        }
      ],
      "source": [
        "permit_all1['Original Revenue'].describe()"
      ]
    },
    {
      "cell_type": "code",
      "execution_count": 288,
      "metadata": {},
      "outputs": [],
      "source": [
        "permit_all1.to_csv(\"permit_all1.csv\")"
      ]
    },
    {
      "cell_type": "code",
      "execution_count": 289,
      "metadata": {},
      "outputs": [
        {
          "data": {
            "text/plain": [
              "count     3149.000000\n",
              "mean     13516.028688\n",
              "std       3878.006355\n",
              "min       1006.500000\n",
              "25%      11068.208333\n",
              "50%      13707.268333\n",
              "75%      15946.879167\n",
              "max      28175.542500\n",
              "Name: Original Revenue, dtype: float64"
            ]
          },
          "execution_count": 289,
          "metadata": {},
          "output_type": "execute_result"
        }
      ],
      "source": [
        "permit_all1['Original Revenue'].describe()"
      ]
    },
    {
      "cell_type": "code",
      "execution_count": 290,
      "metadata": {},
      "outputs": [
        {
          "data": {
            "text/plain": [
              "(7386.66286392405, 7042.177647058823, 7798.572516129032, 8387.192294743625)"
            ]
          },
          "execution_count": 290,
          "metadata": {},
          "output_type": "execute_result"
        }
      ],
      "source": [
        "permit_all1[permit_all1['exp_violation_yr']==0]['Earned Revenue'].mean(),permit_all1[permit_all1['exp_violation_yr']==1]['Earned Revenue'].mean(),permit_all1[permit_all1['exp_violation_yr']==2]['Earned Revenue'].mean(),permit_all1[permit_all1['exp_violation_yr']>=4]['Earned Revenue'].mean()"
      ]
    },
    {
      "cell_type": "code",
      "execution_count": 291,
      "metadata": {},
      "outputs": [
        {
          "data": {
            "text/plain": [
              "(-224.0, 15300.92)"
            ]
          },
          "execution_count": 291,
          "metadata": {},
          "output_type": "execute_result"
        }
      ],
      "source": [
        "permit_all1[permit_all1['exp_violation_yr']==0]['Earned Revenue'].min(),permit_all1[permit_all1['exp_violation_yr']==0]['Earned Revenue'].max()"
      ]
    },
    {
      "cell_type": "code",
      "execution_count": 292,
      "metadata": {},
      "outputs": [
        {
          "data": {
            "text/plain": [
              "count     1264.000000\n",
              "mean      7386.662864\n",
              "std       3147.815536\n",
              "min       -224.000000\n",
              "25%       5569.370000\n",
              "50%       7976.020000\n",
              "75%       9690.760000\n",
              "max      15300.920000\n",
              "Name: Earned Revenue, dtype: float64"
            ]
          },
          "execution_count": 292,
          "metadata": {},
          "output_type": "execute_result"
        }
      ],
      "source": [
        "permit_all1[permit_all1['exp_violation_yr']==0]['Earned Revenue'].describe()"
      ]
    },
    {
      "cell_type": "code",
      "execution_count": 293,
      "metadata": {},
      "outputs": [
        {
          "data": {
            "text/plain": [
              "count      297.000000\n",
              "mean      7933.149248\n",
              "std       3903.122414\n",
              "min          0.000000\n",
              "25%       6297.170000\n",
              "50%       8952.180000\n",
              "75%      10803.990000\n",
              "max      14809.490000\n",
              "Name: Earned Revenue, dtype: float64"
            ]
          },
          "execution_count": 293,
          "metadata": {},
          "output_type": "execute_result"
        }
      ],
      "source": [
        "permit_all1[permit_all1['exp_violation_yr']==3]['Earned Revenue'].describe()"
      ]
    },
    {
      "cell_type": "code",
      "execution_count": 294,
      "metadata": {},
      "outputs": [
        {
          "data": {
            "text/plain": [
              "count     3149.000000\n",
              "mean      7857.726550\n",
              "std       3637.091589\n",
              "min       -224.000000\n",
              "25%       6013.860000\n",
              "50%       8672.420000\n",
              "75%      10526.150000\n",
              "max      17315.660000\n",
              "Name: Earned Revenue, dtype: float64"
            ]
          },
          "execution_count": 294,
          "metadata": {},
          "output_type": "execute_result"
        }
      ],
      "source": [
        "permit_all1['Earned Revenue'].describe()"
      ]
    },
    {
      "cell_type": "code",
      "execution_count": 295,
      "metadata": {},
      "outputs": [
        {
          "data": {
            "text/plain": [
              "count    1264.000000\n",
              "mean     1793.385442\n",
              "std      1248.096507\n",
              "min         0.000000\n",
              "25%       593.020000\n",
              "50%      1777.867500\n",
              "75%      2776.182750\n",
              "max      5508.331200\n",
              "Name: Commission, dtype: float64"
            ]
          },
          "execution_count": 295,
          "metadata": {},
          "output_type": "execute_result"
        }
      ],
      "source": [
        "permit_all1[permit_all1['exp_violation_yr']==0]['Commission'].describe()"
      ]
    },
    {
      "cell_type": "code",
      "execution_count": 296,
      "metadata": {},
      "outputs": [
        {
          "data": {
            "text/plain": [
              "count     297.000000\n",
              "mean     2298.869201\n",
              "std      1408.444166\n",
              "min         0.000000\n",
              "25%      1365.590000\n",
              "50%      2290.207500\n",
              "75%      3340.939000\n",
              "max      5331.416400\n",
              "Name: Commission, dtype: float64"
            ]
          },
          "execution_count": 296,
          "metadata": {},
          "output_type": "execute_result"
        }
      ],
      "source": [
        "permit_all1[permit_all1['exp_violation_yr']==3]['Commission'].describe()"
      ]
    },
    {
      "cell_type": "code",
      "execution_count": 187,
      "metadata": {},
      "outputs": [
        {
          "data": {
            "text/plain": [
              "count    3149.000000\n",
              "mean     2149.287513\n",
              "std      1391.089316\n",
              "min         0.000000\n",
              "25%       964.183500\n",
              "50%      2223.880000\n",
              "75%      3229.478000\n",
              "max      6233.637600\n",
              "Name: Commission, dtype: float64"
            ]
          },
          "execution_count": 187,
          "metadata": {},
          "output_type": "execute_result"
        }
      ],
      "source": [
        "permit_all1['Commission'].describe()"
      ]
    },
    {
      "cell_type": "code",
      "execution_count": 297,
      "metadata": {},
      "outputs": [
        {
          "data": {
            "text/plain": [
              "(1793.3854424841772, 2487.9444229541564)"
            ]
          },
          "execution_count": 297,
          "metadata": {},
          "output_type": "execute_result"
        }
      ],
      "source": [
        "permit_all1[permit_all1['exp_violation_yr']==0]['Commission'].mean(),permit_all1[permit_all1['exp_violation_yr']>=4]['Commission'].mean()"
      ]
    },
    {
      "cell_type": "code",
      "execution_count": null,
      "metadata": {},
      "outputs": [],
      "source": []
    },
    {
      "cell_type": "code",
      "execution_count": 298,
      "metadata": {},
      "outputs": [
        {
          "data": {
            "text/plain": [
              "1065.7018935801827"
            ]
          },
          "execution_count": 298,
          "metadata": {},
          "output_type": "execute_result"
        }
      ],
      "source": [
        "permit_all1[permit_all1['exp_violation_yr']==0]['Net Pay'].mean()"
      ]
    },
    {
      "cell_type": "code",
      "execution_count": 299,
      "metadata": {},
      "outputs": [
        {
          "data": {
            "text/plain": [
              "(2505.3440233884985, 1065.7018935801827)"
            ]
          },
          "execution_count": 299,
          "metadata": {},
          "output_type": "execute_result"
        }
      ],
      "source": [
        "permit_all1[permit_all1['exp_violation_yr']>3]['Net Pay'].mean(),permit_all1[permit_all1['exp_violation_yr']==0]['Net Pay'].mean()"
      ]
    },
    {
      "cell_type": "code",
      "execution_count": 300,
      "metadata": {},
      "outputs": [
        {
          "data": {
            "text/plain": [
              "count     297.000000\n",
              "mean     2209.077416\n",
              "std      1400.884728\n",
              "min         0.000000\n",
              "25%      1125.868333\n",
              "50%      2421.992500\n",
              "75%      3308.554167\n",
              "max      5444.610833\n",
              "Name: Net Pay, dtype: float64"
            ]
          },
          "execution_count": 300,
          "metadata": {},
          "output_type": "execute_result"
        }
      ],
      "source": [
        "permit_all1[permit_all1['exp_violation_yr']==3]['Net Pay'].describe()"
      ]
    },
    {
      "cell_type": "code",
      "execution_count": 301,
      "metadata": {},
      "outputs": [
        {
          "data": {
            "text/plain": [
              "count    1264.000000\n",
              "mean     1065.701894\n",
              "std      1010.611328\n",
              "min         0.000000\n",
              "25%       177.206250\n",
              "50%       836.605417\n",
              "75%      1681.888333\n",
              "max      4974.844500\n",
              "Name: Net Pay, dtype: float64"
            ]
          },
          "execution_count": 301,
          "metadata": {},
          "output_type": "execute_result"
        }
      ],
      "source": [
        "permit_all1[permit_all1['exp_violation_yr']==0]['Net Pay'].describe()"
      ]
    },
    {
      "cell_type": "code",
      "execution_count": 302,
      "metadata": {},
      "outputs": [
        {
          "data": {
            "text/plain": [
              "count    3149.000000\n",
              "mean     1792.543474\n",
              "std      1367.585842\n",
              "min         0.000000\n",
              "25%       480.363333\n",
              "50%      1772.796667\n",
              "75%      2881.896667\n",
              "max      6183.836667\n",
              "Name: Net Pay, dtype: float64"
            ]
          },
          "execution_count": 302,
          "metadata": {},
          "output_type": "execute_result"
        }
      ],
      "source": [
        "permit_all1['Net Pay'].describe()"
      ]
    },
    {
      "cell_type": "code",
      "execution_count": 303,
      "metadata": {},
      "outputs": [
        {
          "data": {
            "text/plain": [
              "(57.17398034719392, -271.72046327556524)"
            ]
          },
          "execution_count": 303,
          "metadata": {},
          "output_type": "execute_result"
        }
      ],
      "source": [
        "permit_all1[permit_all1['exp_violation_yr']>5]['Ov Pmt'].mean(),permit_all1[permit_all1['exp_violation_yr']==0]['Ov Pmt'].mean()"
      ]
    },
    {
      "cell_type": "code",
      "execution_count": 304,
      "metadata": {},
      "outputs": [
        {
          "data": {
            "text/plain": [
              "count     1264.000000\n",
              "mean      -271.720463\n",
              "std       1270.199215\n",
              "min     -15920.325000\n",
              "25%          0.000000\n",
              "50%          0.000000\n",
              "75%          0.000000\n",
              "max       2045.107500\n",
              "Name: Ov Pmt, dtype: float64"
            ]
          },
          "execution_count": 304,
          "metadata": {},
          "output_type": "execute_result"
        }
      ],
      "source": [
        "permit_all1[permit_all1['exp_violation_yr']==0]['Ov Pmt'].describe()"
      ]
    },
    {
      "cell_type": "code",
      "execution_count": 305,
      "metadata": {},
      "outputs": [
        {
          "data": {
            "text/plain": [
              "count     297.000000\n",
              "mean      159.372273\n",
              "std       676.952281\n",
              "min     -2324.992500\n",
              "25%         0.000000\n",
              "50%         0.000000\n",
              "75%       181.072500\n",
              "max      3085.080000\n",
              "Name: Ov Pmt, dtype: float64"
            ]
          },
          "execution_count": 305,
          "metadata": {},
          "output_type": "execute_result"
        }
      ],
      "source": [
        "permit_all1[permit_all1['exp_violation_yr']==3]['Ov Pmt'].describe()"
      ]
    },
    {
      "cell_type": "code",
      "execution_count": 306,
      "metadata": {},
      "outputs": [
        {
          "data": {
            "text/plain": [
              "count     3149.000000\n",
              "mean       -59.443018\n",
              "std        971.490963\n",
              "min     -15920.325000\n",
              "25%          0.000000\n",
              "50%          0.000000\n",
              "75%          0.000000\n",
              "max       4317.112500\n",
              "Name: Ov Pmt, dtype: float64"
            ]
          },
          "execution_count": 306,
          "metadata": {},
          "output_type": "execute_result"
        }
      ],
      "source": [
        "permit_all1['Ov Pmt'].describe()"
      ]
    },
    {
      "cell_type": "code",
      "execution_count": 307,
      "metadata": {},
      "outputs": [
        {
          "data": {
            "text/plain": [
              "(214.22614882003896, 437.21030888495045)"
            ]
          },
          "execution_count": 307,
          "metadata": {},
          "output_type": "execute_result"
        }
      ],
      "source": [
        "permit_all1[permit_all1['exp_violation_yr']>5]['Traffic Fines'].mean(),permit_all1[permit_all1['exp_violation_yr']==0]['Traffic Fines'].mean()"
      ]
    },
    {
      "cell_type": "code",
      "execution_count": 308,
      "metadata": {},
      "outputs": [
        {
          "data": {
            "text/plain": [
              "count     297.000000\n",
              "mean      164.141414\n",
              "std       208.076828\n",
              "min         0.000000\n",
              "25%       100.000000\n",
              "50%       100.000000\n",
              "75%       200.000000\n",
              "max      2500.000000\n",
              "Name: Original Fine Amount, dtype: float64"
            ]
          },
          "execution_count": 308,
          "metadata": {},
          "output_type": "execute_result"
        }
      ],
      "source": [
        "permit_all1[permit_all1['exp_violation_yr']==3]['Original Fine Amount'].describe()"
      ]
    },
    {
      "cell_type": "code",
      "execution_count": 309,
      "metadata": {},
      "outputs": [
        {
          "data": {
            "text/plain": [
              "count    1264.000000\n",
              "mean      192.365506\n",
              "std       393.855043\n",
              "min         0.000000\n",
              "25%       100.000000\n",
              "50%       100.000000\n",
              "75%       100.000000\n",
              "max      2500.000000\n",
              "Name: Original Fine Amount, dtype: float64"
            ]
          },
          "execution_count": 309,
          "metadata": {},
          "output_type": "execute_result"
        }
      ],
      "source": [
        "permit_all1[permit_all1['exp_violation_yr']==0]['Original Fine Amount'].describe()"
      ]
    },
    {
      "cell_type": "code",
      "execution_count": 310,
      "metadata": {},
      "outputs": [
        {
          "data": {
            "text/plain": [
              "count    3502.000000\n",
              "mean      203.055397\n",
              "std       376.271455\n",
              "min         0.000000\n",
              "25%       100.000000\n",
              "50%       100.000000\n",
              "75%       200.000000\n",
              "max      2500.000000\n",
              "Name: Original Fine Amount, dtype: float64"
            ]
          },
          "execution_count": 310,
          "metadata": {},
          "output_type": "execute_result"
        }
      ],
      "source": [
        "permit_all1['Original Fine Amount'].describe()"
      ]
    },
    {
      "cell_type": "code",
      "execution_count": 311,
      "metadata": {},
      "outputs": [
        {
          "data": {
            "text/plain": [
              "Administrative ID\n",
              "2231641.0    2\n",
              "2231377.0    2\n",
              "2200066.0    2\n",
              "2224072.0    2\n",
              "2221612.0    1\n",
              "            ..\n",
              "2231546.0    1\n",
              "2191740.0    1\n",
              "2201342.0    1\n",
              "2231063.0    1\n",
              "2233846.0    1\n",
              "Name: count, Length: 83, dtype: int64"
            ]
          },
          "execution_count": 311,
          "metadata": {},
          "output_type": "execute_result"
        }
      ],
      "source": [
        "permit_all1[permit_all1['Original Fine Amount']>1000]['Administrative ID'][~ permit_all1[permit_all1['Original Fine Amount']>1000]['Administrative ID'].isna()].value_counts()"
      ]
    },
    {
      "cell_type": "code",
      "execution_count": 312,
      "metadata": {},
      "outputs": [
        {
          "data": {
            "text/plain": [
              "count    230.000000\n",
              "mean       1.291304\n",
              "std        0.603782\n",
              "min        1.000000\n",
              "25%        1.000000\n",
              "50%        1.000000\n",
              "75%        1.000000\n",
              "max        5.000000\n",
              "Name: count, dtype: float64"
            ]
          },
          "execution_count": 312,
          "metadata": {},
          "output_type": "execute_result"
        }
      ],
      "source": [
        "permit_all1[permit_all1['exp_violation_yr']==3]['Administrative ID'].value_counts().describe()"
      ]
    },
    {
      "cell_type": "code",
      "execution_count": 313,
      "metadata": {},
      "outputs": [
        {
          "data": {
            "text/plain": [
              "count    954.000000\n",
              "mean       1.324948\n",
              "std        0.663282\n",
              "min        1.000000\n",
              "25%        1.000000\n",
              "50%        1.000000\n",
              "75%        1.000000\n",
              "max        7.000000\n",
              "Name: count, dtype: float64"
            ]
          },
          "execution_count": 313,
          "metadata": {},
          "output_type": "execute_result"
        }
      ],
      "source": [
        "permit_all1[permit_all1['exp_violation_yr']==0]['Administrative ID'].value_counts().describe()"
      ]
    },
    {
      "cell_type": "code",
      "execution_count": 314,
      "metadata": {},
      "outputs": [
        {
          "data": {
            "text/plain": [
              "count    2568.000000\n",
              "mean        1.354361\n",
              "std         0.716420\n",
              "min         1.000000\n",
              "25%         1.000000\n",
              "50%         1.000000\n",
              "75%         2.000000\n",
              "max         8.000000\n",
              "Name: count, dtype: float64"
            ]
          },
          "execution_count": 314,
          "metadata": {},
          "output_type": "execute_result"
        }
      ],
      "source": [
        "permit_all1['Administrative ID'].value_counts().describe()"
      ]
    },
    {
      "cell_type": "code",
      "execution_count": 315,
      "metadata": {},
      "outputs": [
        {
          "data": {
            "text/plain": [
              "(2.2062780269058297, 1.8053797468354431)"
            ]
          },
          "execution_count": 315,
          "metadata": {},
          "output_type": "execute_result"
        }
      ],
      "source": [
        "permit_all1[permit_all1['exp_violation_yr']>5]['Black Points'].mean(),permit_all1[permit_all1['exp_violation_yr']==0]['Black Points'].mean()"
      ]
    },
    {
      "cell_type": "code",
      "execution_count": 62,
      "metadata": {},
      "outputs": [
        {
          "data": {
            "text/plain": [
              "1.7201735357917571"
            ]
          },
          "execution_count": 62,
          "metadata": {},
          "output_type": "execute_result"
        }
      ],
      "source": []
    },
    {
      "cell_type": "code",
      "execution_count": 316,
      "metadata": {},
      "outputs": [],
      "source": [
        "import datetime\n",
        "\n",
        "def compute_months(dob):\n",
        "    today = datetime.date.today()\n",
        "   \n",
        "    age_in_months = (today.year - dob.year) * 12 + (today.month - dob.month)\n",
        "    return 10-age_in_months"
      ]
    },
    {
      "cell_type": "code",
      "execution_count": 317,
      "metadata": {},
      "outputs": [
        {
          "name": "stderr",
          "output_type": "stream",
          "text": [
            "C:\\Users\\manjusha.suku\\AppData\\Local\\Temp\\ipykernel_13140\\1305933583.py:1: SettingWithCopyWarning: \n",
            "A value is trying to be set on a copy of a slice from a DataFrame.\n",
            "Try using .loc[row_indexer,col_indexer] = value instead\n",
            "\n",
            "See the caveats in the documentation: https://pandas.pydata.org/pandas-docs/stable/user_guide/indexing.html#returning-a-view-versus-a-copy\n",
            "  permit_all1['month']=permit_all1['Violation Date'].apply(compute_months)\n"
          ]
        }
      ],
      "source": [
        "permit_all1['month']=permit_all1['Violation Date'].apply(compute_months)"
      ]
    },
    {
      "cell_type": "code",
      "execution_count": 318,
      "metadata": {},
      "outputs": [
        {
          "name": "stdout",
          "output_type": "stream",
          "text": [
            "0 exp_violation_yr\n",
            "0.0     0.299145\n",
            "9.0     0.085470\n",
            "4.0     0.085470\n",
            "7.0     0.076923\n",
            "8.0     0.076923\n",
            "2.0     0.068376\n",
            "3.0     0.068376\n",
            "6.0     0.059829\n",
            "5.0     0.051282\n",
            "14.0    0.017094\n",
            "1.0     0.017094\n",
            "10.0    0.017094\n",
            "11.0    0.017094\n",
            "17.0    0.017094\n",
            "20.0    0.008547\n",
            "13.0    0.008547\n",
            "23.0    0.008547\n",
            "15.0    0.008547\n",
            "21.0    0.008547\n",
            "Name: proportion, dtype: float64 117\n",
            "1 exp_violation_yr\n",
            "0.0     0.316901\n",
            "3.0     0.119718\n",
            "5.0     0.080986\n",
            "7.0     0.066901\n",
            "2.0     0.066901\n",
            "8.0     0.049296\n",
            "6.0     0.049296\n",
            "4.0     0.042254\n",
            "9.0     0.038732\n",
            "12.0    0.031690\n",
            "1.0     0.028169\n",
            "10.0    0.024648\n",
            "14.0    0.021127\n",
            "13.0    0.021127\n",
            "11.0    0.010563\n",
            "15.0    0.007042\n",
            "17.0    0.007042\n",
            "21.0    0.003521\n",
            "16.0    0.003521\n",
            "19.0    0.003521\n",
            "18.0    0.003521\n",
            "25.0    0.003521\n",
            "Name: proportion, dtype: float64 284\n",
            "2 exp_violation_yr\n",
            "0.0     0.353125\n",
            "3.0     0.103125\n",
            "2.0     0.081250\n",
            "5.0     0.071875\n",
            "8.0     0.062500\n",
            "6.0     0.046875\n",
            "4.0     0.046875\n",
            "7.0     0.046875\n",
            "9.0     0.031250\n",
            "13.0    0.028125\n",
            "14.0    0.021875\n",
            "1.0     0.021875\n",
            "12.0    0.015625\n",
            "10.0    0.015625\n",
            "11.0    0.015625\n",
            "18.0    0.006250\n",
            "24.0    0.006250\n",
            "15.0    0.006250\n",
            "17.0    0.006250\n",
            "23.0    0.003125\n",
            "19.0    0.003125\n",
            "16.0    0.003125\n",
            "21.0    0.003125\n",
            "Name: proportion, dtype: float64 320\n",
            "3 exp_violation_yr\n",
            "0.0     0.380814\n",
            "3.0     0.107558\n",
            "2.0     0.066860\n",
            "4.0     0.058140\n",
            "6.0     0.055233\n",
            "1.0     0.049419\n",
            "7.0     0.046512\n",
            "5.0     0.043605\n",
            "8.0     0.040698\n",
            "9.0     0.031977\n",
            "13.0    0.026163\n",
            "12.0    0.023256\n",
            "14.0    0.020349\n",
            "11.0    0.014535\n",
            "20.0    0.011628\n",
            "17.0    0.008721\n",
            "10.0    0.008721\n",
            "25.0    0.002907\n",
            "19.0    0.002907\n",
            "Name: proportion, dtype: float64 344\n",
            "4 exp_violation_yr\n",
            "0.0     0.463492\n",
            "3.0     0.104762\n",
            "2.0     0.053968\n",
            "6.0     0.053968\n",
            "5.0     0.041270\n",
            "8.0     0.038095\n",
            "7.0     0.034921\n",
            "12.0    0.031746\n",
            "4.0     0.028571\n",
            "1.0     0.025397\n",
            "9.0     0.025397\n",
            "14.0    0.015873\n",
            "13.0    0.015873\n",
            "15.0    0.012698\n",
            "10.0    0.009524\n",
            "11.0    0.009524\n",
            "16.0    0.009524\n",
            "24.0    0.006349\n",
            "18.0    0.006349\n",
            "17.0    0.003175\n",
            "27.0    0.003175\n",
            "19.0    0.003175\n",
            "20.0    0.003175\n",
            "Name: proportion, dtype: float64 315\n",
            "5 exp_violation_yr\n",
            "0.0     0.424812\n",
            "3.0     0.105263\n",
            "2.0     0.060150\n",
            "5.0     0.056391\n",
            "6.0     0.052632\n",
            "4.0     0.045113\n",
            "1.0     0.041353\n",
            "13.0    0.041353\n",
            "8.0     0.030075\n",
            "9.0     0.030075\n",
            "7.0     0.018797\n",
            "10.0    0.018797\n",
            "12.0    0.018797\n",
            "14.0    0.015038\n",
            "15.0    0.007519\n",
            "11.0    0.007519\n",
            "17.0    0.007519\n",
            "16.0    0.003759\n",
            "21.0    0.003759\n",
            "27.0    0.003759\n",
            "19.0    0.003759\n",
            "24.0    0.003759\n",
            "Name: proportion, dtype: float64 266\n",
            "6 exp_violation_yr\n",
            "0.0     0.419437\n",
            "3.0     0.089514\n",
            "5.0     0.079284\n",
            "6.0     0.058824\n",
            "2.0     0.056266\n",
            "8.0     0.051151\n",
            "4.0     0.046036\n",
            "1.0     0.046036\n",
            "13.0    0.028133\n",
            "14.0    0.025575\n",
            "9.0     0.025575\n",
            "7.0     0.015345\n",
            "11.0    0.012788\n",
            "10.0    0.012788\n",
            "12.0    0.012788\n",
            "15.0    0.007673\n",
            "19.0    0.005115\n",
            "18.0    0.002558\n",
            "23.0    0.002558\n",
            "25.0    0.002558\n",
            "Name: proportion, dtype: float64 391\n",
            "7 exp_violation_yr\n",
            "0.0     0.425287\n",
            "3.0     0.103448\n",
            "6.0     0.077586\n",
            "1.0     0.074713\n",
            "5.0     0.054598\n",
            "4.0     0.040230\n",
            "2.0     0.037356\n",
            "8.0     0.034483\n",
            "12.0    0.020115\n",
            "9.0     0.020115\n",
            "14.0    0.020115\n",
            "11.0    0.017241\n",
            "13.0    0.014368\n",
            "10.0    0.014368\n",
            "17.0    0.011494\n",
            "7.0     0.008621\n",
            "16.0    0.005747\n",
            "15.0    0.005747\n",
            "24.0    0.005747\n",
            "27.0    0.002874\n",
            "22.0    0.002874\n",
            "25.0    0.002874\n",
            "Name: proportion, dtype: float64 348\n",
            "8 exp_violation_yr\n",
            "0.0     0.494595\n",
            "3.0     0.083784\n",
            "1.0     0.078378\n",
            "6.0     0.056757\n",
            "8.0     0.045946\n",
            "5.0     0.043243\n",
            "14.0    0.027027\n",
            "9.0     0.027027\n",
            "7.0     0.021622\n",
            "4.0     0.018919\n",
            "2.0     0.018919\n",
            "13.0    0.016216\n",
            "10.0    0.008108\n",
            "12.0    0.008108\n",
            "17.0    0.008108\n",
            "11.0    0.008108\n",
            "25.0    0.008108\n",
            "23.0    0.005405\n",
            "15.0    0.005405\n",
            "24.0    0.002703\n",
            "18.0    0.002703\n",
            "26.0    0.002703\n",
            "19.0    0.002703\n",
            "27.0    0.002703\n",
            "20.0    0.002703\n",
            "Name: proportion, dtype: float64 370\n",
            "9 exp_violation_yr\n",
            "0.0     0.444795\n",
            "1.0     0.085174\n",
            "6.0     0.072555\n",
            "3.0     0.069401\n",
            "5.0     0.053628\n",
            "4.0     0.050473\n",
            "8.0     0.047319\n",
            "9.0     0.041009\n",
            "14.0    0.028391\n",
            "13.0    0.028391\n",
            "10.0    0.018927\n",
            "12.0    0.012618\n",
            "2.0     0.012618\n",
            "7.0     0.009464\n",
            "15.0    0.006309\n",
            "11.0    0.006309\n",
            "21.0    0.003155\n",
            "17.0    0.003155\n",
            "26.0    0.003155\n",
            "19.0    0.003155\n",
            "Name: proportion, dtype: float64 317\n",
            "10 Series([], Name: proportion, dtype: float64) 0\n"
          ]
        }
      ],
      "source": [
        "for i in range(11):\n",
        "    print(i,permit_all1[permit_all1['month']==i]['exp_violation_yr'].value_counts(normalize=True),permit_all1[permit_all1['month']==i]['exp_violation_yr'].value_counts().sum())"
      ]
    },
    {
      "cell_type": "code",
      "execution_count": 319,
      "metadata": {},
      "outputs": [
        {
          "name": "stdout",
          "output_type": "stream",
          "text": [
            "0 exp_violation_yr\n",
            "0.0     35\n",
            "9.0     10\n",
            "4.0     10\n",
            "7.0      9\n",
            "8.0      9\n",
            "2.0      8\n",
            "3.0      8\n",
            "6.0      7\n",
            "5.0      6\n",
            "14.0     2\n",
            "1.0      2\n",
            "10.0     2\n",
            "11.0     2\n",
            "17.0     2\n",
            "20.0     1\n",
            "13.0     1\n",
            "23.0     1\n",
            "15.0     1\n",
            "21.0     1\n",
            "Name: count, dtype: int64 117\n",
            "1 exp_violation_yr\n",
            "0.0     90\n",
            "3.0     34\n",
            "5.0     23\n",
            "7.0     19\n",
            "2.0     19\n",
            "8.0     14\n",
            "6.0     14\n",
            "4.0     12\n",
            "9.0     11\n",
            "12.0     9\n",
            "1.0      8\n",
            "10.0     7\n",
            "14.0     6\n",
            "13.0     6\n",
            "11.0     3\n",
            "15.0     2\n",
            "17.0     2\n",
            "21.0     1\n",
            "16.0     1\n",
            "19.0     1\n",
            "18.0     1\n",
            "25.0     1\n",
            "Name: count, dtype: int64 284\n",
            "2 exp_violation_yr\n",
            "0.0     113\n",
            "3.0      33\n",
            "2.0      26\n",
            "5.0      23\n",
            "8.0      20\n",
            "6.0      15\n",
            "4.0      15\n",
            "7.0      15\n",
            "9.0      10\n",
            "13.0      9\n",
            "14.0      7\n",
            "1.0       7\n",
            "12.0      5\n",
            "10.0      5\n",
            "11.0      5\n",
            "18.0      2\n",
            "24.0      2\n",
            "15.0      2\n",
            "17.0      2\n",
            "23.0      1\n",
            "19.0      1\n",
            "16.0      1\n",
            "21.0      1\n",
            "Name: count, dtype: int64 320\n",
            "3 exp_violation_yr\n",
            "0.0     131\n",
            "3.0      37\n",
            "2.0      23\n",
            "4.0      20\n",
            "6.0      19\n",
            "1.0      17\n",
            "7.0      16\n",
            "5.0      15\n",
            "8.0      14\n",
            "9.0      11\n",
            "13.0      9\n",
            "12.0      8\n",
            "14.0      7\n",
            "11.0      5\n",
            "20.0      4\n",
            "17.0      3\n",
            "10.0      3\n",
            "25.0      1\n",
            "19.0      1\n",
            "Name: count, dtype: int64 344\n",
            "4 exp_violation_yr\n",
            "0.0     146\n",
            "3.0      33\n",
            "2.0      17\n",
            "6.0      17\n",
            "5.0      13\n",
            "8.0      12\n",
            "7.0      11\n",
            "12.0     10\n",
            "4.0       9\n",
            "1.0       8\n",
            "9.0       8\n",
            "14.0      5\n",
            "13.0      5\n",
            "15.0      4\n",
            "10.0      3\n",
            "11.0      3\n",
            "16.0      3\n",
            "24.0      2\n",
            "18.0      2\n",
            "17.0      1\n",
            "27.0      1\n",
            "19.0      1\n",
            "20.0      1\n",
            "Name: count, dtype: int64 315\n",
            "5 exp_violation_yr\n",
            "0.0     113\n",
            "3.0      28\n",
            "2.0      16\n",
            "5.0      15\n",
            "6.0      14\n",
            "4.0      12\n",
            "1.0      11\n",
            "13.0     11\n",
            "8.0       8\n",
            "9.0       8\n",
            "7.0       5\n",
            "10.0      5\n",
            "12.0      5\n",
            "14.0      4\n",
            "15.0      2\n",
            "11.0      2\n",
            "17.0      2\n",
            "16.0      1\n",
            "21.0      1\n",
            "27.0      1\n",
            "19.0      1\n",
            "24.0      1\n",
            "Name: count, dtype: int64 266\n",
            "6 exp_violation_yr\n",
            "0.0     164\n",
            "3.0      35\n",
            "5.0      31\n",
            "6.0      23\n",
            "2.0      22\n",
            "8.0      20\n",
            "4.0      18\n",
            "1.0      18\n",
            "13.0     11\n",
            "14.0     10\n",
            "9.0      10\n",
            "7.0       6\n",
            "11.0      5\n",
            "10.0      5\n",
            "12.0      5\n",
            "15.0      3\n",
            "19.0      2\n",
            "18.0      1\n",
            "23.0      1\n",
            "25.0      1\n",
            "Name: count, dtype: int64 391\n",
            "7 exp_violation_yr\n",
            "0.0     148\n",
            "3.0      36\n",
            "6.0      27\n",
            "1.0      26\n",
            "5.0      19\n",
            "4.0      14\n",
            "2.0      13\n",
            "8.0      12\n",
            "12.0      7\n",
            "9.0       7\n",
            "14.0      7\n",
            "11.0      6\n",
            "13.0      5\n",
            "10.0      5\n",
            "17.0      4\n",
            "7.0       3\n",
            "16.0      2\n",
            "15.0      2\n",
            "24.0      2\n",
            "27.0      1\n",
            "22.0      1\n",
            "25.0      1\n",
            "Name: count, dtype: int64 348\n",
            "8 exp_violation_yr\n",
            "0.0     183\n",
            "3.0      31\n",
            "1.0      29\n",
            "6.0      21\n",
            "8.0      17\n",
            "5.0      16\n",
            "14.0     10\n",
            "9.0      10\n",
            "7.0       8\n",
            "4.0       7\n",
            "2.0       7\n",
            "13.0      6\n",
            "10.0      3\n",
            "12.0      3\n",
            "17.0      3\n",
            "11.0      3\n",
            "25.0      3\n",
            "23.0      2\n",
            "15.0      2\n",
            "24.0      1\n",
            "18.0      1\n",
            "26.0      1\n",
            "19.0      1\n",
            "27.0      1\n",
            "20.0      1\n",
            "Name: count, dtype: int64 370\n",
            "9 exp_violation_yr\n",
            "0.0     141\n",
            "1.0      27\n",
            "6.0      23\n",
            "3.0      22\n",
            "5.0      17\n",
            "4.0      16\n",
            "8.0      15\n",
            "9.0      13\n",
            "14.0      9\n",
            "13.0      9\n",
            "10.0      6\n",
            "12.0      4\n",
            "2.0       4\n",
            "7.0       3\n",
            "15.0      2\n",
            "11.0      2\n",
            "21.0      1\n",
            "17.0      1\n",
            "26.0      1\n",
            "19.0      1\n",
            "Name: count, dtype: int64 317\n",
            "10 Series([], Name: count, dtype: int64) 0\n"
          ]
        }
      ],
      "source": [
        "for i in range(11):\n",
        "    print(i,permit_all1[permit_all1['month']==i]['exp_violation_yr'].value_counts(),permit_all1[permit_all1['month']==i]['exp_violation_yr'].value_counts().sum())"
      ]
    },
    {
      "cell_type": "code",
      "execution_count": null,
      "metadata": {},
      "outputs": [],
      "source": []
    },
    {
      "cell_type": "markdown",
      "metadata": {},
      "source": []
    }
  ],
  "metadata": {
    "colab": {
      "provenance": []
    },
    "kernelspec": {
      "display_name": "Python 3",
      "name": "python3"
    },
    "language_info": {
      "codemirror_mode": {
        "name": "ipython",
        "version": 3
      },
      "file_extension": ".py",
      "mimetype": "text/x-python",
      "name": "python",
      "nbconvert_exporter": "python",
      "pygments_lexer": "ipython3",
      "version": "3.9.0"
    }
  },
  "nbformat": 4,
  "nbformat_minor": 0
}
